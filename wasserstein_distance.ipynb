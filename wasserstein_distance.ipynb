{
  "nbformat": 4,
  "nbformat_minor": 0,
  "metadata": {
    "colab": {
      "provenance": [],
      "authorship_tag": "ABX9TyMkgo3OiqpB4/XNsgQj0eog",
      "include_colab_link": true
    },
    "kernelspec": {
      "name": "python3",
      "display_name": "Python 3"
    },
    "language_info": {
      "name": "python"
    },
    "accelerator": "GPU",
    "gpuClass": "standard",
    "widgets": {
      "application/vnd.jupyter.widget-state+json": {
        "95515a85d80340f594a29fb91446d834": {
          "model_module": "@jupyter-widgets/controls",
          "model_name": "IntProgressModel",
          "model_module_version": "1.5.0",
          "state": {
            "_dom_classes": [],
            "_model_module": "@jupyter-widgets/controls",
            "_model_module_version": "1.5.0",
            "_model_name": "IntProgressModel",
            "_view_count": null,
            "_view_module": "@jupyter-widgets/controls",
            "_view_module_version": "1.5.0",
            "_view_name": "ProgressView",
            "bar_style": "",
            "description": "",
            "description_tooltip": null,
            "layout": "IPY_MODEL_ffb70b174ccf4cdc9c98b1d6d05e2fbb",
            "max": 144,
            "min": 0,
            "orientation": "horizontal",
            "style": "IPY_MODEL_0200e716347b4f97a99c3e85edff0939",
            "value": 144
          }
        },
        "ffb70b174ccf4cdc9c98b1d6d05e2fbb": {
          "model_module": "@jupyter-widgets/base",
          "model_name": "LayoutModel",
          "model_module_version": "1.2.0",
          "state": {
            "_model_module": "@jupyter-widgets/base",
            "_model_module_version": "1.2.0",
            "_model_name": "LayoutModel",
            "_view_count": null,
            "_view_module": "@jupyter-widgets/base",
            "_view_module_version": "1.2.0",
            "_view_name": "LayoutView",
            "align_content": null,
            "align_items": null,
            "align_self": null,
            "border": null,
            "bottom": null,
            "display": null,
            "flex": null,
            "flex_flow": null,
            "grid_area": null,
            "grid_auto_columns": null,
            "grid_auto_flow": null,
            "grid_auto_rows": null,
            "grid_column": null,
            "grid_gap": null,
            "grid_row": null,
            "grid_template_areas": null,
            "grid_template_columns": null,
            "grid_template_rows": null,
            "height": null,
            "justify_content": null,
            "justify_items": null,
            "left": null,
            "margin": null,
            "max_height": null,
            "max_width": null,
            "min_height": null,
            "min_width": null,
            "object_fit": null,
            "object_position": null,
            "order": null,
            "overflow": null,
            "overflow_x": null,
            "overflow_y": null,
            "padding": null,
            "right": null,
            "top": null,
            "visibility": null,
            "width": null
          }
        },
        "0200e716347b4f97a99c3e85edff0939": {
          "model_module": "@jupyter-widgets/controls",
          "model_name": "ProgressStyleModel",
          "model_module_version": "1.5.0",
          "state": {
            "_model_module": "@jupyter-widgets/controls",
            "_model_module_version": "1.5.0",
            "_model_name": "ProgressStyleModel",
            "_view_count": null,
            "_view_module": "@jupyter-widgets/base",
            "_view_module_version": "1.2.0",
            "_view_name": "StyleView",
            "bar_color": null,
            "description_width": ""
          }
        },
        "b1c4da1bec7b4936ba73760ed5452f56": {
          "model_module": "@jupyter-widgets/controls",
          "model_name": "IntProgressModel",
          "model_module_version": "1.5.0",
          "state": {
            "_dom_classes": [],
            "_model_module": "@jupyter-widgets/controls",
            "_model_module_version": "1.5.0",
            "_model_name": "IntProgressModel",
            "_view_count": null,
            "_view_module": "@jupyter-widgets/controls",
            "_view_module_version": "1.5.0",
            "_view_name": "ProgressView",
            "bar_style": "",
            "description": "",
            "description_tooltip": null,
            "layout": "IPY_MODEL_0599d5d2d7f84fb28d154bb295bf74b7",
            "max": 432,
            "min": 0,
            "orientation": "horizontal",
            "style": "IPY_MODEL_63ebe093bbb64bf99684f7805c298089",
            "value": 20
          }
        },
        "0599d5d2d7f84fb28d154bb295bf74b7": {
          "model_module": "@jupyter-widgets/base",
          "model_name": "LayoutModel",
          "model_module_version": "1.2.0",
          "state": {
            "_model_module": "@jupyter-widgets/base",
            "_model_module_version": "1.2.0",
            "_model_name": "LayoutModel",
            "_view_count": null,
            "_view_module": "@jupyter-widgets/base",
            "_view_module_version": "1.2.0",
            "_view_name": "LayoutView",
            "align_content": null,
            "align_items": null,
            "align_self": null,
            "border": null,
            "bottom": null,
            "display": null,
            "flex": null,
            "flex_flow": null,
            "grid_area": null,
            "grid_auto_columns": null,
            "grid_auto_flow": null,
            "grid_auto_rows": null,
            "grid_column": null,
            "grid_gap": null,
            "grid_row": null,
            "grid_template_areas": null,
            "grid_template_columns": null,
            "grid_template_rows": null,
            "height": null,
            "justify_content": null,
            "justify_items": null,
            "left": null,
            "margin": null,
            "max_height": null,
            "max_width": null,
            "min_height": null,
            "min_width": null,
            "object_fit": null,
            "object_position": null,
            "order": null,
            "overflow": null,
            "overflow_x": null,
            "overflow_y": null,
            "padding": null,
            "right": null,
            "top": null,
            "visibility": null,
            "width": null
          }
        },
        "63ebe093bbb64bf99684f7805c298089": {
          "model_module": "@jupyter-widgets/controls",
          "model_name": "ProgressStyleModel",
          "model_module_version": "1.5.0",
          "state": {
            "_model_module": "@jupyter-widgets/controls",
            "_model_module_version": "1.5.0",
            "_model_name": "ProgressStyleModel",
            "_view_count": null,
            "_view_module": "@jupyter-widgets/base",
            "_view_module_version": "1.2.0",
            "_view_name": "StyleView",
            "bar_color": null,
            "description_width": ""
          }
        },
        "6807bc1b4ce143db9451691ba497c50b": {
          "model_module": "@jupyter-widgets/controls",
          "model_name": "IntProgressModel",
          "model_module_version": "1.5.0",
          "state": {
            "_dom_classes": [],
            "_model_module": "@jupyter-widgets/controls",
            "_model_module_version": "1.5.0",
            "_model_name": "IntProgressModel",
            "_view_count": null,
            "_view_module": "@jupyter-widgets/controls",
            "_view_module_version": "1.5.0",
            "_view_name": "ProgressView",
            "bar_style": "",
            "description": "",
            "description_tooltip": null,
            "layout": "IPY_MODEL_f98f9405116f44ccb8d67310dd5be05d",
            "max": 48,
            "min": 0,
            "orientation": "horizontal",
            "style": "IPY_MODEL_aeb9d98dbed9440fb825c4ef3c2a3347",
            "value": 39
          }
        },
        "f98f9405116f44ccb8d67310dd5be05d": {
          "model_module": "@jupyter-widgets/base",
          "model_name": "LayoutModel",
          "model_module_version": "1.2.0",
          "state": {
            "_model_module": "@jupyter-widgets/base",
            "_model_module_version": "1.2.0",
            "_model_name": "LayoutModel",
            "_view_count": null,
            "_view_module": "@jupyter-widgets/base",
            "_view_module_version": "1.2.0",
            "_view_name": "LayoutView",
            "align_content": null,
            "align_items": null,
            "align_self": null,
            "border": null,
            "bottom": null,
            "display": null,
            "flex": null,
            "flex_flow": null,
            "grid_area": null,
            "grid_auto_columns": null,
            "grid_auto_flow": null,
            "grid_auto_rows": null,
            "grid_column": null,
            "grid_gap": null,
            "grid_row": null,
            "grid_template_areas": null,
            "grid_template_columns": null,
            "grid_template_rows": null,
            "height": null,
            "justify_content": null,
            "justify_items": null,
            "left": null,
            "margin": null,
            "max_height": null,
            "max_width": null,
            "min_height": null,
            "min_width": null,
            "object_fit": null,
            "object_position": null,
            "order": null,
            "overflow": null,
            "overflow_x": null,
            "overflow_y": null,
            "padding": null,
            "right": null,
            "top": null,
            "visibility": null,
            "width": null
          }
        },
        "aeb9d98dbed9440fb825c4ef3c2a3347": {
          "model_module": "@jupyter-widgets/controls",
          "model_name": "ProgressStyleModel",
          "model_module_version": "1.5.0",
          "state": {
            "_model_module": "@jupyter-widgets/controls",
            "_model_module_version": "1.5.0",
            "_model_name": "ProgressStyleModel",
            "_view_count": null,
            "_view_module": "@jupyter-widgets/base",
            "_view_module_version": "1.2.0",
            "_view_name": "StyleView",
            "bar_color": null,
            "description_width": ""
          }
        },
        "69f98a54d8714f36b4d819c264b2d155": {
          "model_module": "@jupyter-widgets/controls",
          "model_name": "HBoxModel",
          "model_module_version": "1.5.0",
          "state": {
            "_dom_classes": [],
            "_model_module": "@jupyter-widgets/controls",
            "_model_module_version": "1.5.0",
            "_model_name": "HBoxModel",
            "_view_count": null,
            "_view_module": "@jupyter-widgets/controls",
            "_view_module_version": "1.5.0",
            "_view_name": "HBoxView",
            "box_style": "",
            "children": [
              "IPY_MODEL_b62c0fdc4c8b454aa7ab65f1494646a6",
              "IPY_MODEL_5d981db4b2dd4f74ab40f4f20aa0380b"
            ],
            "layout": "IPY_MODEL_2649983db13f48cf99f7608d86f1563e"
          }
        },
        "b62c0fdc4c8b454aa7ab65f1494646a6": {
          "model_module": "@jupyter-widgets/controls",
          "model_name": "DropdownModel",
          "model_module_version": "1.5.0",
          "state": {
            "_dom_classes": [],
            "_model_module": "@jupyter-widgets/controls",
            "_model_module_version": "1.5.0",
            "_model_name": "DropdownModel",
            "_options_labels": [
              "13",
              "15",
              "20"
            ],
            "_view_count": null,
            "_view_module": "@jupyter-widgets/controls",
            "_view_module_version": "1.5.0",
            "_view_name": "DropdownView",
            "description": "red shift",
            "description_tooltip": null,
            "disabled": false,
            "index": 0,
            "layout": "IPY_MODEL_510ec4c768c3469186fd5a2eafb3171f",
            "style": "IPY_MODEL_22d2324d239446448839df6f2522ad68"
          }
        },
        "5d981db4b2dd4f74ab40f4f20aa0380b": {
          "model_module": "@jupyter-widgets/controls",
          "model_name": "DropdownModel",
          "model_module_version": "1.5.0",
          "state": {
            "_dom_classes": [],
            "_model_module": "@jupyter-widgets/controls",
            "_model_module_version": "1.5.0",
            "_model_name": "DropdownModel",
            "_options_labels": [
              "0.0",
              "0.1",
              "0.2",
              "0.3",
              "0.4",
              "0.5"
            ],
            "_view_count": null,
            "_view_module": "@jupyter-widgets/controls",
            "_view_module_version": "1.5.0",
            "_view_name": "DropdownView",
            "description": "Delta sigma8 x 10$",
            "description_tooltip": null,
            "disabled": false,
            "index": 2,
            "layout": "IPY_MODEL_67805e5981824df7b8d0d0f1cf4ea54e",
            "style": "IPY_MODEL_7b1e38bb84cb431bb8a124f215e4b8ea"
          }
        },
        "2649983db13f48cf99f7608d86f1563e": {
          "model_module": "@jupyter-widgets/base",
          "model_name": "LayoutModel",
          "model_module_version": "1.2.0",
          "state": {
            "_model_module": "@jupyter-widgets/base",
            "_model_module_version": "1.2.0",
            "_model_name": "LayoutModel",
            "_view_count": null,
            "_view_module": "@jupyter-widgets/base",
            "_view_module_version": "1.2.0",
            "_view_name": "LayoutView",
            "align_content": null,
            "align_items": null,
            "align_self": null,
            "border": null,
            "bottom": null,
            "display": null,
            "flex": null,
            "flex_flow": null,
            "grid_area": null,
            "grid_auto_columns": null,
            "grid_auto_flow": null,
            "grid_auto_rows": null,
            "grid_column": null,
            "grid_gap": null,
            "grid_row": null,
            "grid_template_areas": null,
            "grid_template_columns": null,
            "grid_template_rows": null,
            "height": null,
            "justify_content": null,
            "justify_items": null,
            "left": null,
            "margin": null,
            "max_height": null,
            "max_width": null,
            "min_height": null,
            "min_width": null,
            "object_fit": null,
            "object_position": null,
            "order": null,
            "overflow": null,
            "overflow_x": null,
            "overflow_y": null,
            "padding": null,
            "right": null,
            "top": null,
            "visibility": null,
            "width": null
          }
        },
        "510ec4c768c3469186fd5a2eafb3171f": {
          "model_module": "@jupyter-widgets/base",
          "model_name": "LayoutModel",
          "model_module_version": "1.2.0",
          "state": {
            "_model_module": "@jupyter-widgets/base",
            "_model_module_version": "1.2.0",
            "_model_name": "LayoutModel",
            "_view_count": null,
            "_view_module": "@jupyter-widgets/base",
            "_view_module_version": "1.2.0",
            "_view_name": "LayoutView",
            "align_content": null,
            "align_items": null,
            "align_self": null,
            "border": null,
            "bottom": null,
            "display": null,
            "flex": null,
            "flex_flow": null,
            "grid_area": null,
            "grid_auto_columns": null,
            "grid_auto_flow": null,
            "grid_auto_rows": null,
            "grid_column": null,
            "grid_gap": null,
            "grid_row": null,
            "grid_template_areas": null,
            "grid_template_columns": null,
            "grid_template_rows": null,
            "height": null,
            "justify_content": null,
            "justify_items": null,
            "left": null,
            "margin": null,
            "max_height": null,
            "max_width": null,
            "min_height": null,
            "min_width": null,
            "object_fit": null,
            "object_position": null,
            "order": null,
            "overflow": null,
            "overflow_x": null,
            "overflow_y": null,
            "padding": null,
            "right": null,
            "top": null,
            "visibility": null,
            "width": null
          }
        },
        "22d2324d239446448839df6f2522ad68": {
          "model_module": "@jupyter-widgets/controls",
          "model_name": "DescriptionStyleModel",
          "model_module_version": "1.5.0",
          "state": {
            "_model_module": "@jupyter-widgets/controls",
            "_model_module_version": "1.5.0",
            "_model_name": "DescriptionStyleModel",
            "_view_count": null,
            "_view_module": "@jupyter-widgets/base",
            "_view_module_version": "1.2.0",
            "_view_name": "StyleView",
            "description_width": ""
          }
        },
        "67805e5981824df7b8d0d0f1cf4ea54e": {
          "model_module": "@jupyter-widgets/base",
          "model_name": "LayoutModel",
          "model_module_version": "1.2.0",
          "state": {
            "_model_module": "@jupyter-widgets/base",
            "_model_module_version": "1.2.0",
            "_model_name": "LayoutModel",
            "_view_count": null,
            "_view_module": "@jupyter-widgets/base",
            "_view_module_version": "1.2.0",
            "_view_name": "LayoutView",
            "align_content": null,
            "align_items": null,
            "align_self": null,
            "border": null,
            "bottom": null,
            "display": null,
            "flex": null,
            "flex_flow": null,
            "grid_area": null,
            "grid_auto_columns": null,
            "grid_auto_flow": null,
            "grid_auto_rows": null,
            "grid_column": null,
            "grid_gap": null,
            "grid_row": null,
            "grid_template_areas": null,
            "grid_template_columns": null,
            "grid_template_rows": null,
            "height": null,
            "justify_content": null,
            "justify_items": null,
            "left": null,
            "margin": null,
            "max_height": null,
            "max_width": null,
            "min_height": null,
            "min_width": null,
            "object_fit": null,
            "object_position": null,
            "order": null,
            "overflow": null,
            "overflow_x": null,
            "overflow_y": null,
            "padding": null,
            "right": null,
            "top": null,
            "visibility": null,
            "width": null
          }
        },
        "7b1e38bb84cb431bb8a124f215e4b8ea": {
          "model_module": "@jupyter-widgets/controls",
          "model_name": "DescriptionStyleModel",
          "model_module_version": "1.5.0",
          "state": {
            "_model_module": "@jupyter-widgets/controls",
            "_model_module_version": "1.5.0",
            "_model_name": "DescriptionStyleModel",
            "_view_count": null,
            "_view_module": "@jupyter-widgets/base",
            "_view_module_version": "1.2.0",
            "_view_name": "StyleView",
            "description_width": ""
          }
        },
        "98350efc7f454f90b0fd509b66d31f95": {
          "model_module": "@jupyter-widgets/output",
          "model_name": "OutputModel",
          "model_module_version": "1.0.0",
          "state": {
            "_dom_classes": [],
            "_model_module": "@jupyter-widgets/output",
            "_model_module_version": "1.0.0",
            "_model_name": "OutputModel",
            "_view_count": null,
            "_view_module": "@jupyter-widgets/output",
            "_view_module_version": "1.0.0",
            "_view_name": "OutputView",
            "layout": "IPY_MODEL_ed0fbfa4c1934f53bec17b6650ee6874",
            "msg_id": "",
            "outputs": [
              {
                "output_type": "display_data",
                "data": {
                  "text/plain": "<Figure size 1440x432 with 2 Axes>",
                  "image/png": "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\n"
                },
                "metadata": {}
              }
            ]
          }
        },
        "ed0fbfa4c1934f53bec17b6650ee6874": {
          "model_module": "@jupyter-widgets/base",
          "model_name": "LayoutModel",
          "model_module_version": "1.2.0",
          "state": {
            "_model_module": "@jupyter-widgets/base",
            "_model_module_version": "1.2.0",
            "_model_name": "LayoutModel",
            "_view_count": null,
            "_view_module": "@jupyter-widgets/base",
            "_view_module_version": "1.2.0",
            "_view_name": "LayoutView",
            "align_content": null,
            "align_items": null,
            "align_self": null,
            "border": null,
            "bottom": null,
            "display": null,
            "flex": null,
            "flex_flow": null,
            "grid_area": null,
            "grid_auto_columns": null,
            "grid_auto_flow": null,
            "grid_auto_rows": null,
            "grid_column": null,
            "grid_gap": null,
            "grid_row": null,
            "grid_template_areas": null,
            "grid_template_columns": null,
            "grid_template_rows": null,
            "height": null,
            "justify_content": null,
            "justify_items": null,
            "left": null,
            "margin": null,
            "max_height": null,
            "max_width": null,
            "min_height": null,
            "min_width": null,
            "object_fit": null,
            "object_position": null,
            "order": null,
            "overflow": null,
            "overflow_x": null,
            "overflow_y": null,
            "padding": null,
            "right": null,
            "top": null,
            "visibility": null,
            "width": null
          }
        },
        "43e579a863244cb585cc86b4af604510": {
          "model_module": "@jupyter-widgets/controls",
          "model_name": "IntProgressModel",
          "model_module_version": "1.5.0",
          "state": {
            "_dom_classes": [],
            "_model_module": "@jupyter-widgets/controls",
            "_model_module_version": "1.5.0",
            "_model_name": "IntProgressModel",
            "_view_count": null,
            "_view_module": "@jupyter-widgets/controls",
            "_view_module_version": "1.5.0",
            "_view_name": "ProgressView",
            "bar_style": "",
            "description": "",
            "description_tooltip": null,
            "layout": "IPY_MODEL_06e83c513a7c402cbb665aba2a80088e",
            "max": 144,
            "min": 0,
            "orientation": "horizontal",
            "style": "IPY_MODEL_c087289fced441d0aa29b627c1998681",
            "value": 144
          }
        },
        "06e83c513a7c402cbb665aba2a80088e": {
          "model_module": "@jupyter-widgets/base",
          "model_name": "LayoutModel",
          "model_module_version": "1.2.0",
          "state": {
            "_model_module": "@jupyter-widgets/base",
            "_model_module_version": "1.2.0",
            "_model_name": "LayoutModel",
            "_view_count": null,
            "_view_module": "@jupyter-widgets/base",
            "_view_module_version": "1.2.0",
            "_view_name": "LayoutView",
            "align_content": null,
            "align_items": null,
            "align_self": null,
            "border": null,
            "bottom": null,
            "display": null,
            "flex": null,
            "flex_flow": null,
            "grid_area": null,
            "grid_auto_columns": null,
            "grid_auto_flow": null,
            "grid_auto_rows": null,
            "grid_column": null,
            "grid_gap": null,
            "grid_row": null,
            "grid_template_areas": null,
            "grid_template_columns": null,
            "grid_template_rows": null,
            "height": null,
            "justify_content": null,
            "justify_items": null,
            "left": null,
            "margin": null,
            "max_height": null,
            "max_width": null,
            "min_height": null,
            "min_width": null,
            "object_fit": null,
            "object_position": null,
            "order": null,
            "overflow": null,
            "overflow_x": null,
            "overflow_y": null,
            "padding": null,
            "right": null,
            "top": null,
            "visibility": null,
            "width": null
          }
        },
        "c087289fced441d0aa29b627c1998681": {
          "model_module": "@jupyter-widgets/controls",
          "model_name": "ProgressStyleModel",
          "model_module_version": "1.5.0",
          "state": {
            "_model_module": "@jupyter-widgets/controls",
            "_model_module_version": "1.5.0",
            "_model_name": "ProgressStyleModel",
            "_view_count": null,
            "_view_module": "@jupyter-widgets/base",
            "_view_module_version": "1.2.0",
            "_view_name": "StyleView",
            "bar_color": null,
            "description_width": ""
          }
        }
      }
    }
  },
  "cells": [
    {
      "cell_type": "markdown",
      "metadata": {
        "id": "view-in-github",
        "colab_type": "text"
      },
      "source": [
        "<a href=\"https://colab.research.google.com/github/mtsizh/bottleneck-distance-for-sigma8/blob/main/wasserstein_distance.ipynb\" target=\"_parent\"><img src=\"https://colab.research.google.com/assets/colab-badge.svg\" alt=\"Open In Colab\"/></a>"
      ]
    },
    {
      "cell_type": "code",
      "source": [
        "#@title #Download datasets\n",
        "#@markdown Run this block of code to download our dataset to Google Colab.\n",
        "#@markdown If successful this code yields \n",
        "#@markdown * folder `alldata2` containing all data for further scripts\n",
        "#@markdown * file `alldata_large.zip` -- the same data zipped; not needed for scripts, but you may want to download it to your local machine\n",
        "\n",
        "from IPython.display import clear_output\n",
        "\n",
        "files = ['alldata.zip', 'alldata.z01', 'alldata.z02', 'alldata.z03']\n",
        "print('deleting old files if exist')\n",
        "!rm -rf alldata2\n",
        "!rm -f alldata_large.zip\n",
        "for f in files:\n",
        "  !rm -f {f}\n",
        "for i,f in enumerate(files):\n",
        "  print('downloading part ', i+1, ' of ', len(files))\n",
        "  #result = !curl -s -S https://raw.githubusercontent.com/mtsizh/bottleneck-distance-for-sigma8/main/{f} > /dev/null && echo \"TRUE\"\n",
        "  result = !wget -q https://raw.githubusercontent.com/mtsizh/bottleneck-distance-for-sigma8/main/{f} && echo \"1\" || echo \"0\"\n",
        "  if result == ['1']:\n",
        "    print('OK')\n",
        "  else:\n",
        "    raise Exception(\"ERROR WHILE DOWNLOADING DATA\")\n",
        "clear_output()\n",
        "print(\"DOWNLOAD SUCCESSFUL\")\n",
        "print(\"PARTS TO ZIP\")\n",
        "result = !zip -qq -F alldata.zip --out alldata_large.zip 2>/dev/null && echo \"1\" || echo \"0\"\n",
        "if result == ['1']:\n",
        "  print('OK')\n",
        "else:\n",
        "  raise Exception(\"ERROR WHILE CREATING LARGE ZIP\")\n",
        "print(\"UNZIPPING\")\n",
        "result = !unzip -o -qq alldata_large.zip 2>/dev/null && echo \"1\" || echo \"0\"\n",
        "if result == ['1']:\n",
        "  print('OK')\n",
        "else:\n",
        "  raise Exception(\"ERROR WHILE UNZIPPING\")\n",
        "print('cleaning')\n",
        "for f in files:\n",
        "  !rm -f {f}\n",
        "clear_output()\n",
        "print(\"ALL DATA DOWNLOADED AND UNPACKED\")"
      ],
      "metadata": {
        "cellView": "form",
        "id": "SzMIc6iSgdh2",
        "outputId": "98f2d146-306b-4f7a-90bc-e7ef3142b788",
        "colab": {
          "base_uri": "https://localhost:8080/"
        }
      },
      "execution_count": 3,
      "outputs": [
        {
          "output_type": "stream",
          "name": "stdout",
          "text": [
            "ALL DATA DOWNLOADED AND UNPACKED\n"
          ]
        }
      ]
    },
    {
      "cell_type": "markdown",
      "source": [
        "install gudhi library with the following code (needed for persistence homology calculations)"
      ],
      "metadata": {
        "id": "jb2DFHrD_1O5"
      }
    },
    {
      "cell_type": "code",
      "source": [
        "!pip install ott-jax\n",
        "!pip install POT\n",
        "!pip install eagerpy\n",
        "!pip install gudhi"
      ],
      "metadata": {
        "id": "18noI2tO_0CC",
        "outputId": "e135023a-e392-454d-fb14-0e78ade490d9",
        "colab": {
          "base_uri": "https://localhost:8080/"
        }
      },
      "execution_count": 4,
      "outputs": [
        {
          "output_type": "stream",
          "name": "stdout",
          "text": [
            "Looking in indexes: https://pypi.org/simple, https://us-python.pkg.dev/colab-wheels/public/simple/\n",
            "Requirement already satisfied: ott-jax in /usr/local/lib/python3.9/dist-packages (0.4.0)\n",
            "Requirement already satisfied: jaxopt>=0.5.5 in /usr/local/lib/python3.9/dist-packages (from ott-jax) (0.6)\n",
            "Requirement already satisfied: numpy!=1.23.0,>=1.18.4 in /usr/local/lib/python3.9/dist-packages (from ott-jax) (1.22.4)\n",
            "Requirement already satisfied: matplotlib>=3.0.0 in /usr/local/lib/python3.9/dist-packages (from ott-jax) (3.5.3)\n",
            "Requirement already satisfied: jax>=0.1.67 in /usr/local/lib/python3.9/dist-packages (from ott-jax) (0.4.4)\n",
            "Requirement already satisfied: optax>=0.1.1 in /usr/local/lib/python3.9/dist-packages (from ott-jax) (0.1.4)\n",
            "Requirement already satisfied: scipy>=1.7.0 in /usr/local/lib/python3.9/dist-packages (from ott-jax) (1.10.1)\n",
            "Requirement already satisfied: flax>=0.5.2 in /usr/local/lib/python3.9/dist-packages (from ott-jax) (0.6.6)\n",
            "Requirement already satisfied: jaxlib>=0.1.47 in /usr/local/lib/python3.9/dist-packages (from ott-jax) (0.4.4+cuda11.cudnn82)\n",
            "Requirement already satisfied: msgpack in /usr/local/lib/python3.9/dist-packages (from flax>=0.5.2->ott-jax) (1.0.4)\n",
            "Requirement already satisfied: tensorstore in /usr/local/lib/python3.9/dist-packages (from flax>=0.5.2->ott-jax) (0.1.33)\n",
            "Requirement already satisfied: PyYAML>=5.4.1 in /usr/local/lib/python3.9/dist-packages (from flax>=0.5.2->ott-jax) (6.0)\n",
            "Requirement already satisfied: orbax in /usr/local/lib/python3.9/dist-packages (from flax>=0.5.2->ott-jax) (0.1.3)\n",
            "Requirement already satisfied: rich>=11.1 in /usr/local/lib/python3.9/dist-packages (from flax>=0.5.2->ott-jax) (13.3.2)\n",
            "Requirement already satisfied: typing-extensions>=4.1.1 in /usr/local/lib/python3.9/dist-packages (from flax>=0.5.2->ott-jax) (4.5.0)\n",
            "Requirement already satisfied: opt-einsum in /usr/local/lib/python3.9/dist-packages (from jax>=0.1.67->ott-jax) (3.3.0)\n",
            "Requirement already satisfied: absl-py>=0.7.0 in /usr/local/lib/python3.9/dist-packages (from jaxopt>=0.5.5->ott-jax) (1.4.0)\n",
            "Requirement already satisfied: python-dateutil>=2.7 in /usr/local/lib/python3.9/dist-packages (from matplotlib>=3.0.0->ott-jax) (2.8.2)\n",
            "Requirement already satisfied: fonttools>=4.22.0 in /usr/local/lib/python3.9/dist-packages (from matplotlib>=3.0.0->ott-jax) (4.39.0)\n",
            "Requirement already satisfied: kiwisolver>=1.0.1 in /usr/local/lib/python3.9/dist-packages (from matplotlib>=3.0.0->ott-jax) (1.4.4)\n",
            "Requirement already satisfied: pillow>=6.2.0 in /usr/local/lib/python3.9/dist-packages (from matplotlib>=3.0.0->ott-jax) (8.4.0)\n",
            "Requirement already satisfied: packaging>=20.0 in /usr/local/lib/python3.9/dist-packages (from matplotlib>=3.0.0->ott-jax) (23.0)\n",
            "Requirement already satisfied: pyparsing>=2.2.1 in /usr/local/lib/python3.9/dist-packages (from matplotlib>=3.0.0->ott-jax) (3.0.9)\n",
            "Requirement already satisfied: cycler>=0.10 in /usr/local/lib/python3.9/dist-packages (from matplotlib>=3.0.0->ott-jax) (0.11.0)\n",
            "Requirement already satisfied: chex>=0.1.5 in /usr/local/lib/python3.9/dist-packages (from optax>=0.1.1->ott-jax) (0.1.6)\n",
            "Requirement already satisfied: dm-tree>=0.1.5 in /usr/local/lib/python3.9/dist-packages (from chex>=0.1.5->optax>=0.1.1->ott-jax) (0.1.8)\n",
            "Requirement already satisfied: toolz>=0.9.0 in /usr/local/lib/python3.9/dist-packages (from chex>=0.1.5->optax>=0.1.1->ott-jax) (0.12.0)\n",
            "Requirement already satisfied: six>=1.5 in /usr/local/lib/python3.9/dist-packages (from python-dateutil>=2.7->matplotlib>=3.0.0->ott-jax) (1.15.0)\n",
            "Requirement already satisfied: markdown-it-py<3.0.0,>=2.2.0 in /usr/local/lib/python3.9/dist-packages (from rich>=11.1->flax>=0.5.2->ott-jax) (2.2.0)\n",
            "Requirement already satisfied: pygments<3.0.0,>=2.13.0 in /usr/local/lib/python3.9/dist-packages (from rich>=11.1->flax>=0.5.2->ott-jax) (2.14.0)\n",
            "Requirement already satisfied: importlib_resources in /usr/local/lib/python3.9/dist-packages (from orbax->flax>=0.5.2->ott-jax) (5.12.0)\n",
            "Requirement already satisfied: cached_property in /usr/local/lib/python3.9/dist-packages (from orbax->flax>=0.5.2->ott-jax) (1.5.2)\n",
            "Requirement already satisfied: etils in /usr/local/lib/python3.9/dist-packages (from orbax->flax>=0.5.2->ott-jax) (1.0.0)\n",
            "Requirement already satisfied: mdurl~=0.1 in /usr/local/lib/python3.9/dist-packages (from markdown-it-py<3.0.0,>=2.2.0->rich>=11.1->flax>=0.5.2->ott-jax) (0.1.2)\n",
            "Requirement already satisfied: zipp>=3.1.0 in /usr/local/lib/python3.9/dist-packages (from importlib_resources->orbax->flax>=0.5.2->ott-jax) (3.15.0)\n",
            "Looking in indexes: https://pypi.org/simple, https://us-python.pkg.dev/colab-wheels/public/simple/\n",
            "Requirement already satisfied: POT in /usr/local/lib/python3.9/dist-packages (0.8.2)\n",
            "Requirement already satisfied: scipy>=1.0 in /usr/local/lib/python3.9/dist-packages (from POT) (1.10.1)\n",
            "Requirement already satisfied: numpy>=1.16 in /usr/local/lib/python3.9/dist-packages (from POT) (1.22.4)\n",
            "Looking in indexes: https://pypi.org/simple, https://us-python.pkg.dev/colab-wheels/public/simple/\n",
            "Requirement already satisfied: eagerpy in /usr/local/lib/python3.9/dist-packages (0.30.0)\n",
            "Requirement already satisfied: numpy in /usr/local/lib/python3.9/dist-packages (from eagerpy) (1.22.4)\n",
            "Requirement already satisfied: typing-extensions>=3.7.4.1 in /usr/local/lib/python3.9/dist-packages (from eagerpy) (4.5.0)\n",
            "Looking in indexes: https://pypi.org/simple, https://us-python.pkg.dev/colab-wheels/public/simple/\n",
            "Requirement already satisfied: gudhi in /usr/local/lib/python3.9/dist-packages (3.7.1)\n",
            "Requirement already satisfied: numpy>=1.15.0 in /usr/local/lib/python3.9/dist-packages (from gudhi) (1.22.4)\n"
          ]
        }
      ]
    },
    {
      "cell_type": "markdown",
      "source": [
        "The following code calculates persistence intervals. Results are saved as `persistence.json` file. Computations are lengthy, please wait until the progressbar reaches 100%. For your convenience `persistence.json.zip` is created so that you can download intermediate data to your computer.\n",
        "\n",
        "If you want to suspend your work for a while: download the zip file and you can later reupload it to Google Colab, unzip with command `!unzip persistence.json.zip` and proceed your work."
      ],
      "metadata": {
        "id": "ReBsh2qSMj13"
      }
    },
    {
      "cell_type": "code",
      "source": [
        "#@markdown Folder with data (should be ok by default)\n",
        "root_folder = \"./alldata2\" #@param {type: \"string\"}\n",
        "#@markdown Choose mass filtering in % (0 to 100)\n",
        "remove_masses_lower_than = 0  #@param {type: \"slider\", min: 0, max: 100}\n",
        "remove_masses_higher_than = 100  #@param {type: \"slider\", min: 0, max: 100}\n",
        "#@markdown Choose random filtering in % (0 to 100)\n",
        "bootstrap_percent = 50  #@param {type: \"slider\", min: 0, max: 100}\n",
        "#@markdown File to save results, use JSON only! (should be ok by default)\n",
        "save_to = \"persistence.json\" #@param {type: \"string\"}\n",
        "\n",
        "if remove_masses_higher_than <= remove_masses_lower_than:\n",
        "  raise Exception(\"Upper masses limit should be larger then the lower limit\")\n",
        "\n",
        "import os\n",
        "from glob import glob\n",
        "import re\n",
        "import numpy as np\n",
        "import pandas as pd\n",
        "import gudhi\n",
        "from ipywidgets import IntProgress\n",
        "from IPython import display\n",
        "\n",
        "\n",
        "def read_all_data(filename, bootstrap_percent=100, mass_filter=[0, 100]):\n",
        "  df = pd.read_csv(filename, sep=r'\\t', header=None, engine ='python')\n",
        "  df.drop(df.columns.difference([0,1,2,3]), axis=1, inplace=True)\n",
        "  df.rename(columns={0:'x', 1:'y', 2:'z', 3:'m'}, inplace=True)\n",
        "  min_m = df['m'].quantile(mass_filter[0]/100)\n",
        "  max_m = df['m'].quantile(mass_filter[1]/100)\n",
        "  df = df[df['m'].between(min_m, max_m)]\n",
        "  df.drop(['m'], axis=1, inplace=True)\n",
        "  all_arr = df.to_numpy()\n",
        "  return all_arr[np.random.choice(all_arr.shape[0], replace=False,\n",
        "                           size=all_arr.shape[0]*bootstrap_percent//100)]\n",
        "\n",
        "def get_persistence_intervals(point_set, dim):\n",
        "  alpha_complex = gudhi.AlphaComplex(points=point_set)\n",
        "  simplex_tree = alpha_complex.create_simplex_tree(default_filtration_value=False)\n",
        "  simplex_tree.compute_persistence()\n",
        "  persistence_intervals = simplex_tree.persistence_intervals_in_dimension(dim)\n",
        "  return persistence_intervals\n",
        "\n",
        "dat_files = [y for x in os.walk(root_folder) for y in glob(os.path.join(x[0], '*.dat'))]\n",
        "reg_expr = '.*\\/([0-9]+)groups_([0-9]+)_new.dat'\n",
        "parsed = [{'filename': f, \n",
        "           'sigma': int(re.match(reg_expr, f).group(1)), \n",
        "           'red_shift': int(re.match(reg_expr, f).group(2))\n",
        "           } for f in dat_files]\n",
        "all_data = pd.DataFrame(columns=[\"sigma8*10\", \"red_shift\", \"dimension\", \"born\", \"persists\"])\n",
        "\n",
        "bar = IntProgress(min=0, max=len(parsed))\n",
        "bar.value = 0\n",
        "display.display(bar)\n",
        "\n",
        "for f in parsed:\n",
        "  data = read_all_data(f['filename'], bootstrap_percent, \n",
        "                       [remove_masses_lower_than, remove_masses_higher_than])\n",
        "  for dim in [0, 1, 2]:\n",
        "    I = get_persistence_intervals(data, dim)\n",
        "    df = {'sigma8*10': f['sigma'], \n",
        "          'red_shift': f['red_shift'], \n",
        "          'dimension': dim,\n",
        "          'born': I[:,0].tolist(),\n",
        "          'dies': I[:,1].tolist(),\n",
        "          'persists': (I[:,1] - I[:,0]).tolist()}\n",
        "    all_data = all_data.append(df, ignore_index = True)\n",
        "  bar.value += 1 \n",
        "\n",
        "all_data.to_json(save_to)\n",
        "print(\"JSON creation complete!\")\n",
        "\n",
        "result =!zip -qq -r {save_to}.zip {save_to} 2>/dev/null && echo \"1\" || echo \"0\"\n",
        "if result == ['1']:\n",
        "  print('zipped')\n",
        "else:\n",
        "  raise Exception(\"ERROR WHILE CREATING ZIP\")"
      ],
      "metadata": {
        "id": "VO_MTMmMrAV9",
        "outputId": "47a37a80-ab16-4cec-e3a2-71feb34d93cd",
        "colab": {
          "base_uri": "https://localhost:8080/",
          "height": 85,
          "referenced_widgets": [
            "95515a85d80340f594a29fb91446d834",
            "ffb70b174ccf4cdc9c98b1d6d05e2fbb",
            "0200e716347b4f97a99c3e85edff0939"
          ]
        }
      },
      "execution_count": 5,
      "outputs": [
        {
          "output_type": "display_data",
          "data": {
            "text/plain": [
              "IntProgress(value=0, max=144)"
            ],
            "application/vnd.jupyter.widget-view+json": {
              "version_major": 2,
              "version_minor": 0,
              "model_id": "95515a85d80340f594a29fb91446d834"
            }
          },
          "metadata": {}
        },
        {
          "output_type": "stream",
          "name": "stdout",
          "text": [
            "JSON creation complete!\n",
            "zipped\n"
          ]
        }
      ]
    },
    {
      "cell_type": "markdown",
      "source": [
        "The following code visualizes results of the previous calculation."
      ],
      "metadata": {
        "id": "_XMnGMJ_3lGf"
      }
    },
    {
      "cell_type": "code",
      "source": [
        "#@markdown File to load data (should be ok by default)\n",
        "read_from = \"persistence.json\" #@param {type: \"string\"}\n",
        "\n",
        "\n",
        "import pandas as pd\n",
        "import matplotlib.pyplot as plt\n",
        "import numpy as np\n",
        "import seaborn as sns\n",
        "sns.set_style(\"whitegrid\")\n",
        "from IPython import display\n",
        "\n",
        "df = pd.read_json(read_from)\n",
        "df = df.groupby(['sigma8*10', 'red_shift', 'dimension']).agg(lambda x: sum(list(x), [])).reset_index()\n",
        "\n",
        "\n",
        "def plot_by_params(dim, sig):\n",
        "  plt.figure(figsize=(12,7))\n",
        "  sns.set_context(\"notebook\", font_scale=1.5)\n",
        "\n",
        "  plt.title(\"$\\sigma_8 = \"+str(sig/10)+\" $, dimension: \"+str(dim))\n",
        "  plt.xlabel(\"Birth\")\n",
        "  plt.ylabel(\"Persistence\")\n",
        "\n",
        "  pick_df = df[(df['sigma8*10'] == sig) & (df['dimension'] == dim)]\n",
        "  r_shifts = pick_df['red_shift'].unique()\n",
        "  cmap = plt.cm.get_cmap('plasma')\n",
        "\n",
        "  for idx,red_shift in enumerate(r_shifts):\n",
        "    X = np.array(pick_df[pick_df['red_shift'] == red_shift]['born'].values[0])\n",
        "    Y = np.array(pick_df[pick_df['red_shift'] == red_shift]['persists'].values[0])\n",
        "    plt.scatter(X, Y, color=cmap(idx/len(r_shifts)), label=\"red shift: \"+str(red_shift))\n",
        "\n",
        "  plt.legend()\n",
        "  plt.show()\n",
        "  \n",
        "\n",
        "import ipywidgets as widgets\n",
        "\n",
        "def make_widget(field):\n",
        "  return widgets.Dropdown(\n",
        "    options=df[field].unique(),\n",
        "    #value='2',\n",
        "    description=field,\n",
        "    disabled=False,\n",
        "  )\n",
        "\n",
        "from ipywidgets import interactive_output\n",
        "\n",
        "w = [make_widget(field) for field in ['dimension', 'sigma8*10']]\n",
        "ui = widgets.HBox(w)\n",
        "out = widgets.interactive_output(plot_by_params, {'dim': w[0], \n",
        "                                                  'sig': w[1]})\n",
        "display.display(ui, out)\n"
      ],
      "metadata": {
        "id": "yDTn2wfXN14I"
      },
      "execution_count": null,
      "outputs": []
    },
    {
      "cell_type": "markdown",
      "source": [
        "The following code calculates distances between pairs of simulations. Results are stored as a json file. For your convenience archive is created as well.\n",
        "\n",
        "Warning: takes a lot of time."
      ],
      "metadata": {
        "id": "ITRbeX520Ki8"
      }
    },
    {
      "cell_type": "code",
      "source": [
        "#@markdown File to load data (should be ok by default)\n",
        "read_from = \"persistence.json\" #@param {type: \"string\"}\n",
        "#@markdown Choose metric $W_p$ (p-Wasserstein) or $W_\\infty$ (Bottleneck distance)\n",
        "metric_to_use = \"p-Wasserstein\" #@param [\"Bottleneck distance\", \"p-Wasserstein\"] {allow-input: false}\n",
        "#@markdown If you choose p-Wasserstein set the order p\n",
        "wasserstein_order = 1.0  #@param {type: \"slider\", min: 1.0, max: 5.0}\n",
        "#@markdown File to save results, use JSON only! (should be ok by default)\n",
        "save_to = \"distancesNODTM.json\" #@param {type: \"string\"}\n",
        "\n",
        "\n",
        "import numpy as np\n",
        "import pandas as pd\n",
        "import gudhi\n",
        "#import gudhi.hera\n",
        "import gudhi.wasserstein\n",
        "from ipywidgets import IntProgress\n",
        "from IPython import display\n",
        "import tensorflow as tf\n",
        "\n",
        "df = pd.read_json(read_from)\n",
        "result = pd.DataFrame(columns=[\"Dsigma8*10\", \"red_shift\", \"dimension\", \"distances\"])\n",
        "\n",
        "bar = IntProgress(min=0, max=len(df.index))\n",
        "bar.value = 0\n",
        "bar1 = IntProgress(min=0, max=len(df.index))\n",
        "bar1.value = 0\n",
        "display.display(bar, bar1)\n",
        "\n",
        "\n",
        "for r_shift in df['red_shift'].unique():\n",
        "  df1 = df[df['red_shift'] == r_shift]\n",
        "  for dimension in df1['dimension'].unique():\n",
        "    df2 = df1[df1['dimension'] == dimension]\n",
        "    distances = {}\n",
        "    for idx1 in range(len(df2.index)):\n",
        "      I1 = np.transpose([df2.iloc[idx1]['born'], df2.iloc[idx1]['dies']]).astype(float)\n",
        "      I1 = tf.convert_to_tensor(I1, dtype=float)\n",
        "      sigma81 = df2.iloc[idx1]['sigma8*10']\n",
        "      bar1.max = len(df2.index)\n",
        "      bar1.value = 0\n",
        "      for idx2 in range(len(df2.index)):\n",
        "        bar1.value += 1\n",
        "        if idx2 <= idx1:\n",
        "          continue\n",
        "        I2 = np.transpose([df2.iloc[idx2]['born'], df2.iloc[idx2]['dies']]).astype(float)\n",
        "        I2 = tf.convert_to_tensor(I2, dtype=float)\n",
        "        sigma82 = df2.iloc[idx2]['sigma8*10']\n",
        "        #print(I1.shape, I2.shape)\n",
        "        if metric_to_use == \"p-Wasserstein\":\n",
        "          #dist = float(gudhi.hera.wasserstein_distance(np.array(I1, dtype=float), \n",
        "          #                                             np.array(I2, dtype=float)))\n",
        "          dist = float(gudhi.wasserstein.wasserstein_distance(I1, \n",
        "                                                              I2,\n",
        "                                                              matching=False,\n",
        "                                                              enable_autodiff=True, \n",
        "                                                              keep_essential_parts=False,\n",
        "                                                              order=wasserstein_order))\n",
        "        else:\n",
        "          dist = float(gudhi.bottleneck_distance(I1, I2))\n",
        "        dsigma = np.abs(sigma81 - sigma82)\n",
        "        if not dsigma in distances:\n",
        "          distances[dsigma] = []\n",
        "        distances[dsigma].append(dist)\n",
        "      bar.value += 1\n",
        "    for dsigma in distances:\n",
        "      row = {'Dsigma8*10': dsigma, \n",
        "             'red_shift': r_shift, \n",
        "             'dimension': dimension,\n",
        "             'distances': distances[dsigma]}\n",
        "      result = result.append(row, ignore_index = True)\n",
        "\n",
        "result.to_json(save_to)\n",
        "print(\"JSON creation complete!\")\n",
        "\n",
        "result =!zip -qq -r {save_to}.zip {save_to} 2>/dev/null && echo \"1\" || echo \"0\"\n",
        "if result == ['1']:\n",
        "  print('zipped')\n",
        "else:\n",
        "  raise Exception(\"ERROR WHILE CREATING ZIP\")"
      ],
      "metadata": {
        "id": "aGOyykSJXHVj",
        "outputId": "f6203460-8070-4e5f-a011-a1b4f50c2a7a",
        "colab": {
          "base_uri": "https://localhost:8080/",
          "height": 79,
          "referenced_widgets": [
            "b1c4da1bec7b4936ba73760ed5452f56",
            "0599d5d2d7f84fb28d154bb295bf74b7",
            "63ebe093bbb64bf99684f7805c298089",
            "6807bc1b4ce143db9451691ba497c50b",
            "f98f9405116f44ccb8d67310dd5be05d",
            "aeb9d98dbed9440fb825c4ef3c2a3347"
          ]
        }
      },
      "execution_count": null,
      "outputs": [
        {
          "output_type": "display_data",
          "data": {
            "text/plain": [
              "IntProgress(value=0, max=432)"
            ],
            "application/vnd.jupyter.widget-view+json": {
              "version_major": 2,
              "version_minor": 0,
              "model_id": "b1c4da1bec7b4936ba73760ed5452f56"
            }
          },
          "metadata": {}
        },
        {
          "output_type": "display_data",
          "data": {
            "text/plain": [
              "IntProgress(value=0, max=432)"
            ],
            "application/vnd.jupyter.widget-view+json": {
              "version_major": 2,
              "version_minor": 0,
              "model_id": "6807bc1b4ce143db9451691ba497c50b"
            }
          },
          "metadata": {}
        }
      ]
    },
    {
      "cell_type": "markdown",
      "source": [
        "install KDEpy library with the following code (needed for probability density estimation, specifically finding kernel width by Silverman's rule)"
      ],
      "metadata": {
        "id": "ipAPRiUWxs-h"
      }
    },
    {
      "cell_type": "code",
      "source": [
        "!pip install KDEpy"
      ],
      "metadata": {
        "id": "UlaVXrJqslIN",
        "outputId": "7638bdf3-4cba-4006-9a95-bc257cd26ef1",
        "colab": {
          "base_uri": "https://localhost:8080/"
        }
      },
      "execution_count": 22,
      "outputs": [
        {
          "output_type": "stream",
          "name": "stdout",
          "text": [
            "Looking in indexes: https://pypi.org/simple, https://us-python.pkg.dev/colab-wheels/public/simple/\n",
            "Collecting KDEpy\n",
            "  Downloading KDEpy-1.1.0-cp39-cp39-manylinux_2_17_x86_64.manylinux2014_x86_64.whl (443 kB)\n",
            "\u001b[2K     \u001b[90m━━━━━━━━━━━━━━━━━━━━━━━━━━━━━━━━━━━━━━\u001b[0m \u001b[32m443.2/443.2 KB\u001b[0m \u001b[31m32.8 MB/s\u001b[0m eta \u001b[36m0:00:00\u001b[0m\n",
            "\u001b[?25hRequirement already satisfied: scipy>=1.0.1 in /usr/local/lib/python3.9/dist-packages (from KDEpy) (1.10.1)\n",
            "Requirement already satisfied: matplotlib>=2.2.0 in /usr/local/lib/python3.9/dist-packages (from KDEpy) (3.5.3)\n",
            "Requirement already satisfied: numpy>=1.14.2 in /usr/local/lib/python3.9/dist-packages (from KDEpy) (1.22.4)\n",
            "Requirement already satisfied: fonttools>=4.22.0 in /usr/local/lib/python3.9/dist-packages (from matplotlib>=2.2.0->KDEpy) (4.39.0)\n",
            "Requirement already satisfied: kiwisolver>=1.0.1 in /usr/local/lib/python3.9/dist-packages (from matplotlib>=2.2.0->KDEpy) (1.4.4)\n",
            "Requirement already satisfied: python-dateutil>=2.7 in /usr/local/lib/python3.9/dist-packages (from matplotlib>=2.2.0->KDEpy) (2.8.2)\n",
            "Requirement already satisfied: pyparsing>=2.2.1 in /usr/local/lib/python3.9/dist-packages (from matplotlib>=2.2.0->KDEpy) (3.0.9)\n",
            "Requirement already satisfied: packaging>=20.0 in /usr/local/lib/python3.9/dist-packages (from matplotlib>=2.2.0->KDEpy) (23.0)\n",
            "Requirement already satisfied: pillow>=6.2.0 in /usr/local/lib/python3.9/dist-packages (from matplotlib>=2.2.0->KDEpy) (8.4.0)\n",
            "Requirement already satisfied: cycler>=0.10 in /usr/local/lib/python3.9/dist-packages (from matplotlib>=2.2.0->KDEpy) (0.11.0)\n",
            "Requirement already satisfied: six>=1.5 in /usr/local/lib/python3.9/dist-packages (from python-dateutil>=2.7->matplotlib>=2.2.0->KDEpy) (1.15.0)\n",
            "Installing collected packages: KDEpy\n",
            "Successfully installed KDEpy-1.1.0\n"
          ]
        }
      ]
    },
    {
      "cell_type": "markdown",
      "source": [
        "The following code visualizes results of the previous calculation."
      ],
      "metadata": {
        "id": "5K0KgGS_0Fho"
      }
    },
    {
      "cell_type": "code",
      "source": [
        "#@markdown File to load data (should be ok by default)\n",
        "read_from = \"distances.json\" #@param {type: \"string\"}\n",
        "\n",
        "import pandas as pd\n",
        "import matplotlib.pyplot as plt\n",
        "import numpy as np\n",
        "import seaborn as sns\n",
        "sns.set_style(\"whitegrid\")\n",
        "from matplotlib.patches import Patch\n",
        "from matplotlib.lines import Line2D\n",
        "from sklearn.neighbors import KernelDensity\n",
        "from KDEpy import FFTKDE\n",
        "\n",
        "df = pd.read_json(read_from)\n",
        "\n",
        "legend_elements = [\n",
        "                    Line2D([0], [0], marker='o', color='w', \n",
        "                          label='$0$ homologies',\n",
        "                          markerfacecolor='r', markersize=10),\n",
        "                   Line2D([0], [0], marker='o', color='w', \n",
        "                          label='$1$ homologies',\n",
        "                          markerfacecolor='b', markersize=10),\n",
        "                  Line2D([0], [0], marker='o', color='w', \n",
        "                          label='$2$ homologies',\n",
        "                          markerfacecolor='g', markersize=10)\n",
        "                   ]\n",
        "\n",
        "def plot_data(ax, data, box_color='b', shift=0.0):\n",
        "  ax.set_xlabel(\"$\\Delta \\sigma_8$\")\n",
        "  ax.set_ylabel(\"$W$ distance\")\n",
        "  y = data['distances'].tolist()\n",
        "  x = data['Dsigma8*10'].tolist()  \n",
        "  y = [y[i] for i in np.argsort(x)]\n",
        "  xu = np.sort(x)/10\n",
        "  medians = [np.median(yd) for yd in y]\n",
        "  import warnings\n",
        "  warnings.filterwarnings(\"ignore\", category=np.VisibleDeprecationWarning) \n",
        "  ax.boxplot(y, \n",
        "              showmeans=True, positions=xu + shift, widths=0.006,\n",
        "              boxprops=dict(color=box_color),\n",
        "              whiskerprops=dict(color=box_color),\n",
        "              capprops=dict(color=box_color),\n",
        "              flierprops=dict(color=box_color, markeredgecolor=box_color))\n",
        "  ax.plot(xu + shift, medians, c=box_color)\n",
        "  ax.set_xlim(np.min(xu)-0.025, np.max(xu)+0.025)\n",
        "  ax.set_navigate(False)\n",
        "  ax.set_xticks(xu)\n",
        "  ax.set_xticklabels(xu)\n",
        "\n",
        "def plot_pdf(ax, data, pdf_color, limits, label):\n",
        "  kde = FFTKDE(bw='silverman', kernel='gaussian')\n",
        "  kde.fit(data)(None)\n",
        "  b_w = kde.bw\n",
        "  kde = KernelDensity(bandwidth=b_w, kernel='gaussian')\n",
        "  kde.fit(data.reshape(-1, 1))\n",
        "  x_d = np.linspace(limits[0], limits[1], 1001)\n",
        "  logprob = kde.score_samples(x_d.reshape(-1, 1))\n",
        "  plt.plot(data, np.full_like(data, 0.0), markeredgewidth=1, color=pdf_color)\n",
        "  ax.set_title('Pdf approximation')\n",
        "  ax.set_xlabel('$W$ distance for Homologies', fontsize=18)\n",
        "  ax.set_ylabel('Probability density function', fontsize=18)\n",
        "  ax.fill_between(x_d, np.exp(logprob), alpha=0.3, label=label, color=pdf_color)\n",
        "\n",
        "def plot_by_params(red_s, Dsigma8):\n",
        "  sns.set_context(\"notebook\", font_scale=1.5)\n",
        "  fig, axs = plt.subplots(1, 2, figsize=(20,6))\n",
        "  df_filtered = df[df['red_shift'] == red_s]\n",
        "  dims = np.unique(df_filtered['dimension'])\n",
        "  colors = {0:'r', 1:'b', 2:'g'}\n",
        "  for d in dims:\n",
        "    data = df_filtered[df_filtered['dimension'] == d]\n",
        "    plot_data(axs[0], data, \n",
        "              box_color=colors[d],\n",
        "              shift={0:-0.005, 1:0.0, 2:+0.005}[d])\n",
        "  axs[0].legend(handles=legend_elements, loc='upper left', prop={'size': 12})\n",
        "  Dsigma810 = int(Dsigma8*10)\n",
        "  df_filtered = df_filtered[df_filtered['Dsigma8*10'] == Dsigma810]\n",
        "  limits=[np.min(df_filtered['distances'].tolist()), np.max(df_filtered['distances'].tolist())]\n",
        "  for d in dims:\n",
        "    data = df_filtered[df_filtered['dimension'] == d]['distances']\n",
        "    plot_pdf(axs[1], np.array(data.tolist()[0]), pdf_color=colors[d], limits=limits, label=str(d)+\" homology\")  \n",
        "  axs[1].legend()\n",
        "  plt.show()\n",
        "  \n",
        "import ipywidgets as widgets\n",
        "\n",
        "def make_widget(options, descr):\n",
        "  return widgets.Dropdown(\n",
        "    options=options,\n",
        "    #value='2',\n",
        "    description=descr,\n",
        "    disabled=False,\n",
        "  )\n",
        "\n",
        "from ipywidgets import interactive_output\n",
        "\n",
        "w = [make_widget(np.unique(df['red_shift']), 'red shift'),\n",
        "     make_widget(np.unique(df['Dsigma8*10'])/10, 'Delta sigma8 x 10$')]\n",
        "ui = widgets.HBox(w)\n",
        "out = widgets.interactive_output(plot_by_params, {'red_s': w[0],\n",
        "                                                  'Dsigma8': w[1]})\n",
        "display.display(ui, out)\n",
        "\n"
      ],
      "metadata": {
        "id": "DXZQKPTUo0OU",
        "outputId": "4d92a45b-1306-4bfa-b6a6-090ab9f69894",
        "colab": {
          "base_uri": "https://localhost:8080/",
          "height": 463,
          "referenced_widgets": [
            "69f98a54d8714f36b4d819c264b2d155",
            "b62c0fdc4c8b454aa7ab65f1494646a6",
            "5d981db4b2dd4f74ab40f4f20aa0380b",
            "2649983db13f48cf99f7608d86f1563e",
            "510ec4c768c3469186fd5a2eafb3171f",
            "22d2324d239446448839df6f2522ad68",
            "67805e5981824df7b8d0d0f1cf4ea54e",
            "7b1e38bb84cb431bb8a124f215e4b8ea",
            "98350efc7f454f90b0fd509b66d31f95",
            "ed0fbfa4c1934f53bec17b6650ee6874"
          ]
        }
      },
      "execution_count": 23,
      "outputs": [
        {
          "output_type": "display_data",
          "data": {
            "text/plain": [
              "HBox(children=(Dropdown(description='red shift', options=(13, 15, 20), value=13), Dropdown(description='Delta …"
            ],
            "application/vnd.jupyter.widget-view+json": {
              "version_major": 2,
              "version_minor": 0,
              "model_id": "69f98a54d8714f36b4d819c264b2d155"
            }
          },
          "metadata": {}
        },
        {
          "output_type": "display_data",
          "data": {
            "text/plain": [
              "Output()"
            ],
            "application/vnd.jupyter.widget-view+json": {
              "version_major": 2,
              "version_minor": 0,
              "model_id": "98350efc7f454f90b0fd509b66d31f95"
            }
          },
          "metadata": {}
        }
      ]
    },
    {
      "cell_type": "markdown",
      "source": [
        "# Test Section"
      ],
      "metadata": {
        "id": "cVc_vodIwpSX"
      }
    },
    {
      "cell_type": "code",
      "source": [
        "#@markdown Folder with data (should be ok by default)\n",
        "root_folder = \"./alldata2\" #@param {type: \"string\"}\n",
        "#@markdown Choose mass filtering in % (0 to 100)\n",
        "remove_masses_lower_than = 0  #@param {type: \"slider\", min: 0, max: 100}\n",
        "remove_masses_higher_than = 100  #@param {type: \"slider\", min: 0, max: 100}\n",
        "#@markdown Choose random filtering in % (0 to 100)\n",
        "bootstrap_percent = 50  #@param {type: \"slider\", min: 0, max: 100}\n",
        "#@markdown Distance to measure (use or not, parameters)\n",
        "use_dtm = 'True'  #@param ['True', 'False']\n",
        "neighbours_dtm = 92  #@param {type: \"slider\", min: 2, max: 100}\n",
        "order_dtm = 2  #@param {type: \"slider\", min: 1, max: 10}\n",
        "#@markdown File to save results, use JSON only! (should be ok by default)\n",
        "save_to = \"persistenceDTM.json\" #@param {type: \"string\"}\n",
        "\n",
        "if remove_masses_higher_than <= remove_masses_lower_than:\n",
        "  raise Exception(\"Upper masses limit should be larger then the lower limit\")\n",
        "\n",
        "import os\n",
        "from glob import glob\n",
        "import re\n",
        "import numpy as np\n",
        "import pandas as pd\n",
        "import gudhi\n",
        "from ipywidgets import IntProgress\n",
        "from IPython import display\n",
        "from gudhi.point_cloud.dtm import DistanceToMeasure\n",
        "\n",
        "\n",
        "def read_all_data(filename, bootstrap_percent=100, mass_filter=[0, 100]):\n",
        "  df = pd.read_csv(filename, sep=r'\\t', header=None, engine ='python')\n",
        "  df.drop(df.columns.difference([0,1,2,3]), axis=1, inplace=True)\n",
        "  df.rename(columns={0:'x', 1:'y', 2:'z', 3:'m'}, inplace=True)\n",
        "  min_m = df['m'].quantile(mass_filter[0]/100)\n",
        "  max_m = df['m'].quantile(mass_filter[1]/100)\n",
        "  df = df[df['m'].between(min_m, max_m)]\n",
        "  df.drop(['m'], axis=1, inplace=True)\n",
        "  all_arr = df.to_numpy()\n",
        "  return all_arr[np.random.choice(all_arr.shape[0], replace=False,\n",
        "                           size=all_arr.shape[0]*bootstrap_percent//100)]\n",
        "\n",
        "def get_persistence_intervals(point_set, dim):\n",
        "  if use_dtm == 'True':\n",
        "    print('true')\n",
        "    # compute the values of the DTM of parameter q\n",
        "    dtm = DistanceToMeasure(k=neighbours_dtm, q=order_dtm)\n",
        "    DTM_values = dtm.fit_transform(point_set)\n",
        "    alpha_complex = gudhi.AlphaComplex(points=point_set, weights=DTM_values.tolist())\n",
        "  else:\n",
        "    alpha_complex = gudhi.AlphaComplex(points=point_set)\n",
        "  simplex_tree = alpha_complex.create_simplex_tree(default_filtration_value=False)\n",
        "  simplex_tree.compute_persistence()\n",
        "  persistence_intervals = simplex_tree.persistence_intervals_in_dimension(dim)\n",
        "  return persistence_intervals\n",
        "\n",
        "dat_files = [y for x in os.walk(root_folder) for y in glob(os.path.join(x[0], '*.dat'))]\n",
        "reg_expr = '.*\\/([0-9]+)groups_([0-9]+)_new.dat'\n",
        "parsed = [{'filename': f, \n",
        "           'sigma': int(re.match(reg_expr, f).group(1)), \n",
        "           'red_shift': int(re.match(reg_expr, f).group(2))\n",
        "           } for f in dat_files]\n",
        "all_data = pd.DataFrame(columns=[\"sigma8*10\", \"red_shift\", \"dimension\", \"born\", \"persists\"])\n",
        "\n",
        "bar = IntProgress(min=0, max=len(parsed))\n",
        "bar.value = 0\n",
        "display.display(bar)\n",
        "\n",
        "for f in parsed:\n",
        "  data = read_all_data(f['filename'], bootstrap_percent, \n",
        "                       [remove_masses_lower_than, remove_masses_higher_than])\n",
        "  for dim in [0, 1, 2]:\n",
        "    I = get_persistence_intervals(data, dim)\n",
        "    df = {'sigma8*10': f['sigma'], \n",
        "          'red_shift': f['red_shift'], \n",
        "          'dimension': dim,\n",
        "          'born': I[:,0].tolist(),\n",
        "          'dies': I[:,1].tolist(),\n",
        "          'persists': (I[:,1] - I[:,0]).tolist()}\n",
        "    all_data = all_data.append(df, ignore_index = True)\n",
        "  bar.value += 1 \n",
        "\n",
        "all_data.to_json(save_to)\n",
        "print(\"JSON creation complete!\")\n",
        "\n",
        "result =!zip -qq -r {save_to}.zip {save_to} 2>/dev/null && echo \"1\" || echo \"0\"\n",
        "if result == ['1']:\n",
        "  print('zipped')\n",
        "else:\n",
        "  raise Exception(\"ERROR WHILE CREATING ZIP\")"
      ],
      "metadata": {
        "id": "or4-1FpIwryB",
        "outputId": "c37363a5-6307-4256-fffe-56f9966adccf",
        "colab": {
          "base_uri": "https://localhost:8080/",
          "height": 85,
          "referenced_widgets": [
            "43e579a863244cb585cc86b4af604510",
            "06e83c513a7c402cbb665aba2a80088e",
            "c087289fced441d0aa29b627c1998681"
          ]
        }
      },
      "execution_count": 20,
      "outputs": [
        {
          "output_type": "display_data",
          "data": {
            "text/plain": [
              "IntProgress(value=0, max=144)"
            ],
            "application/vnd.jupyter.widget-view+json": {
              "version_major": 2,
              "version_minor": 0,
              "model_id": "43e579a863244cb585cc86b4af604510"
            }
          },
          "metadata": {}
        },
        {
          "output_type": "stream",
          "name": "stdout",
          "text": [
            "JSON creation complete!\n",
            "zipped\n"
          ]
        }
      ]
    },
    {
      "cell_type": "code",
      "source": [
        "from gudhi import AlphaComplex\n",
        "wgt_ac = AlphaComplex(points=[[ 1., -1., -1.],\n",
        "                              [-1.,  1., -1.],\n",
        "                              [-1., -1.,  1.],\n",
        "                              [ 1.,  1.,  1.],\n",
        "                              [ 2.,  2.,  2.]],\n",
        "                      weights = [4., 4., 4., 4., 1.])\n",
        "\n",
        "stree = wgt_ac.create_simplex_tree()\n",
        "print('Weighted alpha complex is of dimension ', stree.dimension(), ' - ',\n",
        "      stree.num_simplices(), ' simplices - ', stree.num_vertices(), ' vertices.')\n",
        "fmt = '%s -> %.2f'\n",
        "for simplex in stree.get_simplices():\n",
        "    print(fmt % tuple(simplex))"
      ],
      "metadata": {
        "id": "75N_ndyPDV-S",
        "outputId": "4035679a-e839-4121-86f9-ca756bffc749",
        "colab": {
          "base_uri": "https://localhost:8080/"
        }
      },
      "execution_count": 18,
      "outputs": [
        {
          "output_type": "stream",
          "name": "stdout",
          "text": [
            "Weighted alpha complex is of dimension  3  -  29  simplices -  5  vertices.\n",
            "[0, 1, 2, 3] -> -1.00\n",
            "[0, 1, 2] -> -1.33\n",
            "[0, 1, 3, 4] -> 95.00\n",
            "[0, 1, 3] -> -1.33\n",
            "[0, 1, 4] -> 95.00\n",
            "[0, 1] -> -2.00\n",
            "[0, 2, 3, 4] -> 95.00\n",
            "[0, 2, 3] -> -1.33\n",
            "[0, 2, 4] -> 95.00\n",
            "[0, 2] -> -2.00\n",
            "[0, 3, 4] -> 23.00\n",
            "[0, 3] -> -2.00\n",
            "[0, 4] -> 23.00\n",
            "[0] -> -4.00\n",
            "[1, 2, 3, 4] -> 95.00\n",
            "[1, 2, 3] -> -1.33\n",
            "[1, 2, 4] -> 95.00\n",
            "[1, 2] -> -2.00\n",
            "[1, 3, 4] -> 23.00\n",
            "[1, 3] -> -2.00\n",
            "[1, 4] -> 23.00\n",
            "[1] -> -4.00\n",
            "[2, 3, 4] -> 23.00\n",
            "[2, 3] -> -2.00\n",
            "[2, 4] -> 23.00\n",
            "[2] -> -4.00\n",
            "[3, 4] -> -1.00\n",
            "[3] -> -4.00\n",
            "[4] -> -1.00\n"
          ]
        }
      ]
    }
  ]
}