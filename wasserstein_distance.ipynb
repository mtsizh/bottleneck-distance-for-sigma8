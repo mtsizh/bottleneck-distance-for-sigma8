{
  "nbformat": 4,
  "nbformat_minor": 0,
  "metadata": {
    "colab": {
      "provenance": [],
      "authorship_tag": "ABX9TyNsbD2O4nyGRsY2XU5KdsQQ",
      "include_colab_link": true
    },
    "kernelspec": {
      "name": "python3",
      "display_name": "Python 3"
    },
    "language_info": {
      "name": "python"
    },
    "widgets": {
      "application/vnd.jupyter.widget-state+json": {
        "c2f6ef3c5f3c4f4cb246cbc3067539f8": {
          "model_module": "@jupyter-widgets/controls",
          "model_name": "IntProgressModel",
          "model_module_version": "1.5.0",
          "state": {
            "_dom_classes": [],
            "_model_module": "@jupyter-widgets/controls",
            "_model_module_version": "1.5.0",
            "_model_name": "IntProgressModel",
            "_view_count": null,
            "_view_module": "@jupyter-widgets/controls",
            "_view_module_version": "1.5.0",
            "_view_name": "ProgressView",
            "bar_style": "",
            "description": "",
            "description_tooltip": null,
            "layout": "IPY_MODEL_0af7f9c17d334010a5585991a1791e7e",
            "max": 144,
            "min": 0,
            "orientation": "horizontal",
            "style": "IPY_MODEL_1b2e7ae15551409daf3ac33c7ce0dfd2",
            "value": 144
          }
        },
        "0af7f9c17d334010a5585991a1791e7e": {
          "model_module": "@jupyter-widgets/base",
          "model_name": "LayoutModel",
          "model_module_version": "1.2.0",
          "state": {
            "_model_module": "@jupyter-widgets/base",
            "_model_module_version": "1.2.0",
            "_model_name": "LayoutModel",
            "_view_count": null,
            "_view_module": "@jupyter-widgets/base",
            "_view_module_version": "1.2.0",
            "_view_name": "LayoutView",
            "align_content": null,
            "align_items": null,
            "align_self": null,
            "border": null,
            "bottom": null,
            "display": null,
            "flex": null,
            "flex_flow": null,
            "grid_area": null,
            "grid_auto_columns": null,
            "grid_auto_flow": null,
            "grid_auto_rows": null,
            "grid_column": null,
            "grid_gap": null,
            "grid_row": null,
            "grid_template_areas": null,
            "grid_template_columns": null,
            "grid_template_rows": null,
            "height": null,
            "justify_content": null,
            "justify_items": null,
            "left": null,
            "margin": null,
            "max_height": null,
            "max_width": null,
            "min_height": null,
            "min_width": null,
            "object_fit": null,
            "object_position": null,
            "order": null,
            "overflow": null,
            "overflow_x": null,
            "overflow_y": null,
            "padding": null,
            "right": null,
            "top": null,
            "visibility": null,
            "width": null
          }
        },
        "1b2e7ae15551409daf3ac33c7ce0dfd2": {
          "model_module": "@jupyter-widgets/controls",
          "model_name": "ProgressStyleModel",
          "model_module_version": "1.5.0",
          "state": {
            "_model_module": "@jupyter-widgets/controls",
            "_model_module_version": "1.5.0",
            "_model_name": "ProgressStyleModel",
            "_view_count": null,
            "_view_module": "@jupyter-widgets/base",
            "_view_module_version": "1.2.0",
            "_view_name": "StyleView",
            "bar_color": null,
            "description_width": ""
          }
        },
        "ba5ad1ef781944de873835f8f17a778b": {
          "model_module": "@jupyter-widgets/controls",
          "model_name": "HBoxModel",
          "model_module_version": "1.5.0",
          "state": {
            "_dom_classes": [],
            "_model_module": "@jupyter-widgets/controls",
            "_model_module_version": "1.5.0",
            "_model_name": "HBoxModel",
            "_view_count": null,
            "_view_module": "@jupyter-widgets/controls",
            "_view_module_version": "1.5.0",
            "_view_name": "HBoxView",
            "box_style": "",
            "children": [
              "IPY_MODEL_47ce581b0756485d8d184996db36ff66",
              "IPY_MODEL_8633189dce4e4a529b9796270dfb2fbc"
            ],
            "layout": "IPY_MODEL_8c3fac758e534c7e91e6f2b0434ea4d1"
          }
        },
        "47ce581b0756485d8d184996db36ff66": {
          "model_module": "@jupyter-widgets/controls",
          "model_name": "DropdownModel",
          "model_module_version": "1.5.0",
          "state": {
            "_dom_classes": [],
            "_model_module": "@jupyter-widgets/controls",
            "_model_module_version": "1.5.0",
            "_model_name": "DropdownModel",
            "_options_labels": [
              "0",
              "1",
              "2"
            ],
            "_view_count": null,
            "_view_module": "@jupyter-widgets/controls",
            "_view_module_version": "1.5.0",
            "_view_name": "DropdownView",
            "description": "dimension",
            "description_tooltip": null,
            "disabled": false,
            "index": 1,
            "layout": "IPY_MODEL_387d75c8959743119d17c5725374fbe8",
            "style": "IPY_MODEL_f255b97f5e7f485d89d7b77640b14e1a"
          }
        },
        "8633189dce4e4a529b9796270dfb2fbc": {
          "model_module": "@jupyter-widgets/controls",
          "model_name": "DropdownModel",
          "model_module_version": "1.5.0",
          "state": {
            "_dom_classes": [],
            "_model_module": "@jupyter-widgets/controls",
            "_model_module_version": "1.5.0",
            "_model_name": "DropdownModel",
            "_options_labels": [
              "5",
              "6",
              "7",
              "8",
              "9",
              "10"
            ],
            "_view_count": null,
            "_view_module": "@jupyter-widgets/controls",
            "_view_module_version": "1.5.0",
            "_view_name": "DropdownView",
            "description": "sigma8*10",
            "description_tooltip": null,
            "disabled": false,
            "index": 1,
            "layout": "IPY_MODEL_919916b72eca48df8c2fff51cc0cbcd5",
            "style": "IPY_MODEL_11cbc2936fac49a998a708f04437f475"
          }
        },
        "8c3fac758e534c7e91e6f2b0434ea4d1": {
          "model_module": "@jupyter-widgets/base",
          "model_name": "LayoutModel",
          "model_module_version": "1.2.0",
          "state": {
            "_model_module": "@jupyter-widgets/base",
            "_model_module_version": "1.2.0",
            "_model_name": "LayoutModel",
            "_view_count": null,
            "_view_module": "@jupyter-widgets/base",
            "_view_module_version": "1.2.0",
            "_view_name": "LayoutView",
            "align_content": null,
            "align_items": null,
            "align_self": null,
            "border": null,
            "bottom": null,
            "display": null,
            "flex": null,
            "flex_flow": null,
            "grid_area": null,
            "grid_auto_columns": null,
            "grid_auto_flow": null,
            "grid_auto_rows": null,
            "grid_column": null,
            "grid_gap": null,
            "grid_row": null,
            "grid_template_areas": null,
            "grid_template_columns": null,
            "grid_template_rows": null,
            "height": null,
            "justify_content": null,
            "justify_items": null,
            "left": null,
            "margin": null,
            "max_height": null,
            "max_width": null,
            "min_height": null,
            "min_width": null,
            "object_fit": null,
            "object_position": null,
            "order": null,
            "overflow": null,
            "overflow_x": null,
            "overflow_y": null,
            "padding": null,
            "right": null,
            "top": null,
            "visibility": null,
            "width": null
          }
        },
        "387d75c8959743119d17c5725374fbe8": {
          "model_module": "@jupyter-widgets/base",
          "model_name": "LayoutModel",
          "model_module_version": "1.2.0",
          "state": {
            "_model_module": "@jupyter-widgets/base",
            "_model_module_version": "1.2.0",
            "_model_name": "LayoutModel",
            "_view_count": null,
            "_view_module": "@jupyter-widgets/base",
            "_view_module_version": "1.2.0",
            "_view_name": "LayoutView",
            "align_content": null,
            "align_items": null,
            "align_self": null,
            "border": null,
            "bottom": null,
            "display": null,
            "flex": null,
            "flex_flow": null,
            "grid_area": null,
            "grid_auto_columns": null,
            "grid_auto_flow": null,
            "grid_auto_rows": null,
            "grid_column": null,
            "grid_gap": null,
            "grid_row": null,
            "grid_template_areas": null,
            "grid_template_columns": null,
            "grid_template_rows": null,
            "height": null,
            "justify_content": null,
            "justify_items": null,
            "left": null,
            "margin": null,
            "max_height": null,
            "max_width": null,
            "min_height": null,
            "min_width": null,
            "object_fit": null,
            "object_position": null,
            "order": null,
            "overflow": null,
            "overflow_x": null,
            "overflow_y": null,
            "padding": null,
            "right": null,
            "top": null,
            "visibility": null,
            "width": null
          }
        },
        "f255b97f5e7f485d89d7b77640b14e1a": {
          "model_module": "@jupyter-widgets/controls",
          "model_name": "DescriptionStyleModel",
          "model_module_version": "1.5.0",
          "state": {
            "_model_module": "@jupyter-widgets/controls",
            "_model_module_version": "1.5.0",
            "_model_name": "DescriptionStyleModel",
            "_view_count": null,
            "_view_module": "@jupyter-widgets/base",
            "_view_module_version": "1.2.0",
            "_view_name": "StyleView",
            "description_width": ""
          }
        },
        "919916b72eca48df8c2fff51cc0cbcd5": {
          "model_module": "@jupyter-widgets/base",
          "model_name": "LayoutModel",
          "model_module_version": "1.2.0",
          "state": {
            "_model_module": "@jupyter-widgets/base",
            "_model_module_version": "1.2.0",
            "_model_name": "LayoutModel",
            "_view_count": null,
            "_view_module": "@jupyter-widgets/base",
            "_view_module_version": "1.2.0",
            "_view_name": "LayoutView",
            "align_content": null,
            "align_items": null,
            "align_self": null,
            "border": null,
            "bottom": null,
            "display": null,
            "flex": null,
            "flex_flow": null,
            "grid_area": null,
            "grid_auto_columns": null,
            "grid_auto_flow": null,
            "grid_auto_rows": null,
            "grid_column": null,
            "grid_gap": null,
            "grid_row": null,
            "grid_template_areas": null,
            "grid_template_columns": null,
            "grid_template_rows": null,
            "height": null,
            "justify_content": null,
            "justify_items": null,
            "left": null,
            "margin": null,
            "max_height": null,
            "max_width": null,
            "min_height": null,
            "min_width": null,
            "object_fit": null,
            "object_position": null,
            "order": null,
            "overflow": null,
            "overflow_x": null,
            "overflow_y": null,
            "padding": null,
            "right": null,
            "top": null,
            "visibility": null,
            "width": null
          }
        },
        "11cbc2936fac49a998a708f04437f475": {
          "model_module": "@jupyter-widgets/controls",
          "model_name": "DescriptionStyleModel",
          "model_module_version": "1.5.0",
          "state": {
            "_model_module": "@jupyter-widgets/controls",
            "_model_module_version": "1.5.0",
            "_model_name": "DescriptionStyleModel",
            "_view_count": null,
            "_view_module": "@jupyter-widgets/base",
            "_view_module_version": "1.2.0",
            "_view_name": "StyleView",
            "description_width": ""
          }
        },
        "7acecb76f4314b9eae0c972b1b9fb81f": {
          "model_module": "@jupyter-widgets/output",
          "model_name": "OutputModel",
          "model_module_version": "1.0.0",
          "state": {
            "_dom_classes": [],
            "_model_module": "@jupyter-widgets/output",
            "_model_module_version": "1.0.0",
            "_model_name": "OutputModel",
            "_view_count": null,
            "_view_module": "@jupyter-widgets/output",
            "_view_module_version": "1.0.0",
            "_view_name": "OutputView",
            "layout": "IPY_MODEL_8c1f9f95b6ed453291b63725e303f1bc",
            "msg_id": "",
            "outputs": [
              {
                "output_type": "display_data",
                "data": {
                  "text/plain": "<Figure size 864x504 with 1 Axes>",
                  "image/png": "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\n"
                },
                "metadata": {}
              }
            ]
          }
        },
        "8c1f9f95b6ed453291b63725e303f1bc": {
          "model_module": "@jupyter-widgets/base",
          "model_name": "LayoutModel",
          "model_module_version": "1.2.0",
          "state": {
            "_model_module": "@jupyter-widgets/base",
            "_model_module_version": "1.2.0",
            "_model_name": "LayoutModel",
            "_view_count": null,
            "_view_module": "@jupyter-widgets/base",
            "_view_module_version": "1.2.0",
            "_view_name": "LayoutView",
            "align_content": null,
            "align_items": null,
            "align_self": null,
            "border": null,
            "bottom": null,
            "display": null,
            "flex": null,
            "flex_flow": null,
            "grid_area": null,
            "grid_auto_columns": null,
            "grid_auto_flow": null,
            "grid_auto_rows": null,
            "grid_column": null,
            "grid_gap": null,
            "grid_row": null,
            "grid_template_areas": null,
            "grid_template_columns": null,
            "grid_template_rows": null,
            "height": null,
            "justify_content": null,
            "justify_items": null,
            "left": null,
            "margin": null,
            "max_height": null,
            "max_width": null,
            "min_height": null,
            "min_width": null,
            "object_fit": null,
            "object_position": null,
            "order": null,
            "overflow": null,
            "overflow_x": null,
            "overflow_y": null,
            "padding": null,
            "right": null,
            "top": null,
            "visibility": null,
            "width": null
          }
        }
      }
    }
  },
  "cells": [
    {
      "cell_type": "markdown",
      "metadata": {
        "id": "view-in-github",
        "colab_type": "text"
      },
      "source": [
        "<a href=\"https://colab.research.google.com/github/mtsizh/bottleneck-distance-for-sigma8/blob/main/wasserstein_distance.ipynb\" target=\"_parent\"><img src=\"https://colab.research.google.com/assets/colab-badge.svg\" alt=\"Open In Colab\"/></a>"
      ]
    },
    {
      "cell_type": "code",
      "source": [
        "#@title #Download datasets\n",
        "#@markdown Run this block of code to download our dataset to Google Colab.\n",
        "#@markdown If successful this code yields \n",
        "#@markdown * folder `alldata2` containing all data for further scripts\n",
        "#@markdown * file `alldata_large.zip` -- the same data zipped; not needed for scripts, but you may want to download it to your local machine\n",
        "\n",
        "from IPython.display import clear_output\n",
        "\n",
        "files = ['alldata.zip', 'alldata.z01', 'alldata.z02', 'alldata.z03']\n",
        "print('deleting old files if exist')\n",
        "!rm -rf alldata2\n",
        "!rm -f alldata_large.zip\n",
        "for f in files:\n",
        "  !rm -f {f}\n",
        "for i,f in enumerate(files):\n",
        "  print('downloading part ', i+1, ' of ', len(files))\n",
        "  #result = !curl -s -S https://raw.githubusercontent.com/mtsizh/bottleneck-distance-for-sigma8/main/{f} > /dev/null && echo \"TRUE\"\n",
        "  result = !wget -q https://raw.githubusercontent.com/mtsizh/bottleneck-distance-for-sigma8/main/{f} && echo \"1\" || echo \"0\"\n",
        "  if result == ['1']:\n",
        "    print('OK')\n",
        "  else:\n",
        "    raise Exception(\"ERROR WHILE DOWNLOADING DATA\")\n",
        "clear_output()\n",
        "print(\"DOWNLOAD SUCCESSFUL\")\n",
        "print(\"PARTS TO ZIP\")\n",
        "result = !zip -qq -F alldata.zip --out alldata_large.zip 2>/dev/null && echo \"1\" || echo \"0\"\n",
        "if result == ['1']:\n",
        "  print('OK')\n",
        "else:\n",
        "  raise Exception(\"ERROR WHILE CREATING LARGE ZIP\")\n",
        "print(\"UNZIPPING\")\n",
        "result = !unzip -o -qq alldata_large.zip 2>/dev/null && echo \"1\" || echo \"0\"\n",
        "if result == ['1']:\n",
        "  print('OK')\n",
        "else:\n",
        "  raise Exception(\"ERROR WHILE UNZIPPING\")\n",
        "print('cleaning')\n",
        "for f in files:\n",
        "  !rm -f {f}\n",
        "clear_output()\n",
        "print(\"ALL DATA DOWNLOADED AND UNPACKED\")"
      ],
      "metadata": {
        "cellView": "form",
        "id": "SzMIc6iSgdh2",
        "colab": {
          "base_uri": "https://localhost:8080/"
        },
        "outputId": "7786dc83-b22b-4bcf-fc6c-66442ae6a509"
      },
      "execution_count": 1,
      "outputs": [
        {
          "output_type": "stream",
          "name": "stdout",
          "text": [
            "ALL DATA DOWNLOADED AND UNPACKED\n"
          ]
        }
      ]
    },
    {
      "cell_type": "markdown",
      "source": [
        "install gudhi library with the following code"
      ],
      "metadata": {
        "id": "jb2DFHrD_1O5"
      }
    },
    {
      "cell_type": "code",
      "source": [
        "!pip install gudhi"
      ],
      "metadata": {
        "colab": {
          "base_uri": "https://localhost:8080/"
        },
        "id": "18noI2tO_0CC",
        "outputId": "18868ca6-44f6-4c06-bc52-1eb444694267"
      },
      "execution_count": 2,
      "outputs": [
        {
          "output_type": "stream",
          "name": "stdout",
          "text": [
            "Looking in indexes: https://pypi.org/simple, https://us-python.pkg.dev/colab-wheels/public/simple/\n",
            "Collecting gudhi\n",
            "  Downloading gudhi-3.7.1-cp38-cp38-manylinux_2_17_x86_64.manylinux2014_x86_64.whl (31.6 MB)\n",
            "\u001b[2K     \u001b[90m━━━━━━━━━━━━━━━━━━━━━━━━━━━━━━━━━━━━━━━━\u001b[0m \u001b[32m31.6/31.6 MB\u001b[0m \u001b[31m32.8 MB/s\u001b[0m eta \u001b[36m0:00:00\u001b[0m\n",
            "\u001b[?25hRequirement already satisfied: numpy>=1.15.0 in /usr/local/lib/python3.8/dist-packages (from gudhi) (1.21.6)\n",
            "Installing collected packages: gudhi\n",
            "Successfully installed gudhi-3.7.1\n"
          ]
        }
      ]
    },
    {
      "cell_type": "markdown",
      "source": [
        "The following code calculates persistence intervals. Results are saved as `persistence.json` file. Computations are lengthy, please wait until the progressbar reaches 100%. For your convenience `persistence.zip` is created so that you can download intermediate data to your computer."
      ],
      "metadata": {
        "id": "ReBsh2qSMj13"
      }
    },
    {
      "cell_type": "code",
      "source": [
        "#@markdown Folder with data (should be ok by default)\n",
        "root_folder = \"./alldata2\" #@param {type: \"string\"}\n",
        "#@markdown Choose mass filtering in % (0 to 100)\n",
        "remove_masses_lower_than = 0  #@param {type: \"slider\", min: 0, max: 100}\n",
        "remove_masses_higher_than = 100  #@param {type: \"slider\", min: 0, max: 100}\n",
        "#@markdown Choose random filtering in % (0 to 100)\n",
        "bootstrap_percent = 100  #@param {type: \"slider\", min: 0, max: 100}\n",
        "\n",
        "if remove_masses_higher_than <= remove_masses_lower_than:\n",
        "  raise Exception(\"Upper masses limit should be larger then the lower limit\")\n",
        "\n",
        "import os\n",
        "from glob import glob\n",
        "import re\n",
        "import numpy as np\n",
        "import pandas as pd\n",
        "import gudhi\n",
        "from ipywidgets import IntProgress\n",
        "from IPython import display\n",
        "\n",
        "\n",
        "def read_all_data(filename, bootstrap_percent=100, mass_filter=[0, 100]):\n",
        "  df = pd.read_csv(filename, sep=r'\\t', header=None, engine ='python')\n",
        "  df.drop(df.columns.difference([0,1,2,3]), axis=1, inplace=True)\n",
        "  df.rename(columns={0:'x', 1:'y', 2:'z', 3:'m'}, inplace=True)\n",
        "  #x = df.apply(lambda s: pd.to_numeric(s, errors='coerce').notnull().all())\n",
        "  min_m = df['m'].quantile(mass_filter[0]/100)\n",
        "  max_m = df['m'].quantile(mass_filter[1]/100)\n",
        "  df = df[df['m'].between(min_m, max_m)]\n",
        "  df.drop(['m'], axis=1, inplace=True)\n",
        "  #print(df['m'].quantile(mass_filter[0]/100))\n",
        "  all_arr = df.to_numpy()\n",
        "  return all_arr[np.random.choice(all_arr.shape[0], replace=False,\n",
        "                           size=all_arr.shape[0]*bootstrap_percent//100)]\n",
        "\n",
        "def get_persistence_intervals(point_set, dim):\n",
        "  alpha_complex = gudhi.AlphaComplex(points=point_set)\n",
        "  simplex_tree = alpha_complex.create_simplex_tree(default_filtration_value=False)\n",
        "  simplex_tree.compute_persistence()\n",
        "  persistence_intervals = simplex_tree.persistence_intervals_in_dimension(dim)\n",
        "  return persistence_intervals\n",
        "\n",
        "dat_files = [y for x in os.walk(root_folder) for y in glob(os.path.join(x[0], '*.dat'))]\n",
        "reg_expr = '.*\\/([0-9]+)groups_([0-9]+)_new.dat'\n",
        "parsed = [{'filename': f, \n",
        "           'sigma': int(re.match(reg_expr, f).group(1)), \n",
        "           'red_shift': int(re.match(reg_expr, f).group(2))\n",
        "           } for f in dat_files]\n",
        "all_data = pd.DataFrame(columns=[\"sigma8*10\", \"red_shift\", \"dimension\", \"born\", \"persists\"])\n",
        "\n",
        "bar = IntProgress(min=0, max=len(parsed))\n",
        "bar.value = 0\n",
        "display.display(bar)\n",
        "\n",
        "for f in parsed:\n",
        "  data = read_all_data(f['filename'], bootstrap_percent, \n",
        "                       [remove_masses_lower_than, remove_masses_higher_than])\n",
        "  for dim in [0, 1, 2]:\n",
        "    I = get_persistence_intervals(data, dim)\n",
        "    df = {'sigma8*10': f['sigma'], \n",
        "          'red_shift': f['red_shift'], \n",
        "          'dimension': dim,\n",
        "          'born': I[:,0].tolist(),\n",
        "          'dies': I[:,1].tolist(),\n",
        "          'persists': (I[:,1] - I[:,0]).tolist()}\n",
        "    all_data = all_data.append(df, ignore_index = True)\n",
        "  bar.value += 1 \n",
        "\n",
        "data = all_data.groupby(['sigma8*10', 'red_shift', 'dimension']).agg(lambda x: sum(list(x), [])).reset_index()\n",
        "data.to_json('persistence.json')\n",
        "print(\"JSON creation complete!\")\n",
        "\n",
        "result =!zip -qq -r persistence.zip persistence.json 2>/dev/null && echo \"1\" || echo \"0\"\n",
        "if result == ['1']:\n",
        "  print('zipped')\n",
        "else:\n",
        "  raise Exception(\"ERROR WHILE CREATING LARGE ZIP\")"
      ],
      "metadata": {
        "id": "VO_MTMmMrAV9",
        "colab": {
          "base_uri": "https://localhost:8080/",
          "height": 85,
          "referenced_widgets": [
            "c2f6ef3c5f3c4f4cb246cbc3067539f8",
            "0af7f9c17d334010a5585991a1791e7e",
            "1b2e7ae15551409daf3ac33c7ce0dfd2"
          ]
        },
        "outputId": "2d1dd918-72da-4e9d-8ec9-301d46b0c8e7"
      },
      "execution_count": 36,
      "outputs": [
        {
          "output_type": "display_data",
          "data": {
            "text/plain": [
              "IntProgress(value=0, max=144)"
            ],
            "application/vnd.jupyter.widget-view+json": {
              "version_major": 2,
              "version_minor": 0,
              "model_id": "c2f6ef3c5f3c4f4cb246cbc3067539f8"
            }
          },
          "metadata": {}
        },
        {
          "output_type": "stream",
          "name": "stdout",
          "text": [
            "JSON creation complete!\n",
            "zipped\n"
          ]
        }
      ]
    },
    {
      "cell_type": "code",
      "source": [
        "import pandas as pd\n",
        "import matplotlib.pyplot as plt\n",
        "import numpy as np\n",
        "import seaborn as sns\n",
        "sns.set_style(\"whitegrid\")\n",
        "\n",
        "df = pd.read_json('persistence.json')\n",
        "\n",
        "def plot_by_params(dim, sig):\n",
        "  plt.figure(figsize=(12,7))\n",
        "  sns.set_context(\"notebook\", font_scale=1.5)\n",
        "\n",
        "  plt.title(\"$\\sigma_8 = \"+str(sig/10)+\" $, dimension: \"+str(dim))\n",
        "  plt.xlabel(\"Birth\")\n",
        "  plt.ylabel(\"Persistence\")\n",
        "\n",
        "  pick_df = df[(df['sigma8*10'] == sig) & (df['dimension'] == dim)]\n",
        "  r_shifts = pick_df['red_shift'].unique()\n",
        "\n",
        "  colors = [[0.0, 0.0, 0.8, 0.2],\n",
        "            [0.0, 0.8, 0.8, 0.2],\n",
        "            [0.8, 0.0, 0.8, 0.2]]\n",
        "\n",
        "  for red_shift, color in zip(r_shifts, colors):\n",
        "    X = np.array(pick_df[pick_df['red_shift'] == red_shift]['born'].values[0])\n",
        "    Y = np.array(pick_df[pick_df['red_shift'] == red_shift]['persists'].values[0])\n",
        "    if red_shift == 13:\n",
        "      plt.scatter(X, Y, color=color, label=\"z = 2\")\n",
        "    if red_shift == 15:\n",
        "      plt.scatter(X, Y, color=color, label=\"z = 1\")\n",
        "    if red_shift == 20:\n",
        "      plt.scatter(X, Y, color=color, label=\"z = 0.1\")\n",
        "\n",
        "\n",
        "  plt.legend()\n",
        "  plt.show()\n",
        "  \n",
        "\n",
        "import ipywidgets as widgets\n",
        "\n",
        "def make_widget(field):\n",
        "  return widgets.Dropdown(\n",
        "    options=df[field].unique(),\n",
        "    #value='2',\n",
        "    description=field,\n",
        "    disabled=False,\n",
        "  )\n",
        "\n",
        "from ipywidgets import interactive_output\n",
        "\n",
        "w = [make_widget(field) for field in ['dimension', 'sigma8*10']]\n",
        "ui = widgets.HBox(w)\n",
        "out = widgets.interactive_output(plot_by_params, {'dim': w[0], \n",
        "                                                  'sig': w[1]})\n",
        "display.display(ui, out)"
      ],
      "metadata": {
        "colab": {
          "base_uri": "https://localhost:8080/",
          "height": 515,
          "referenced_widgets": [
            "ba5ad1ef781944de873835f8f17a778b",
            "47ce581b0756485d8d184996db36ff66",
            "8633189dce4e4a529b9796270dfb2fbc",
            "8c3fac758e534c7e91e6f2b0434ea4d1",
            "387d75c8959743119d17c5725374fbe8",
            "f255b97f5e7f485d89d7b77640b14e1a",
            "919916b72eca48df8c2fff51cc0cbcd5",
            "11cbc2936fac49a998a708f04437f475",
            "7acecb76f4314b9eae0c972b1b9fb81f",
            "8c1f9f95b6ed453291b63725e303f1bc"
          ]
        },
        "id": "yDTn2wfXN14I",
        "outputId": "6ff7f4b1-1ae9-4a85-8bc7-cd38113e5d9f"
      },
      "execution_count": 37,
      "outputs": [
        {
          "output_type": "display_data",
          "data": {
            "text/plain": [
              "HBox(children=(Dropdown(description='dimension', options=(0, 1, 2), value=0), Dropdown(description='sigma8*10'…"
            ],
            "application/vnd.jupyter.widget-view+json": {
              "version_major": 2,
              "version_minor": 0,
              "model_id": "ba5ad1ef781944de873835f8f17a778b"
            }
          },
          "metadata": {}
        },
        {
          "output_type": "display_data",
          "data": {
            "text/plain": [
              "Output()"
            ],
            "application/vnd.jupyter.widget-view+json": {
              "version_major": 2,
              "version_minor": 0,
              "model_id": "7acecb76f4314b9eae0c972b1b9fb81f"
            }
          },
          "metadata": {}
        }
      ]
    }
  ]
}