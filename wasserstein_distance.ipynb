{
  "nbformat": 4,
  "nbformat_minor": 0,
  "metadata": {
    "colab": {
      "provenance": [],
      "authorship_tag": "ABX9TyNR91QIkFUVWHnuHK7m3SX2",
      "include_colab_link": true
    },
    "kernelspec": {
      "name": "python3",
      "display_name": "Python 3"
    },
    "language_info": {
      "name": "python"
    },
    "widgets": {
      "application/vnd.jupyter.widget-state+json": {
        "c2f6ef3c5f3c4f4cb246cbc3067539f8": {
          "model_module": "@jupyter-widgets/controls",
          "model_name": "IntProgressModel",
          "model_module_version": "1.5.0",
          "state": {
            "_dom_classes": [],
            "_model_module": "@jupyter-widgets/controls",
            "_model_module_version": "1.5.0",
            "_model_name": "IntProgressModel",
            "_view_count": null,
            "_view_module": "@jupyter-widgets/controls",
            "_view_module_version": "1.5.0",
            "_view_name": "ProgressView",
            "bar_style": "",
            "description": "",
            "description_tooltip": null,
            "layout": "IPY_MODEL_0af7f9c17d334010a5585991a1791e7e",
            "max": 144,
            "min": 0,
            "orientation": "horizontal",
            "style": "IPY_MODEL_1b2e7ae15551409daf3ac33c7ce0dfd2",
            "value": 144
          }
        },
        "0af7f9c17d334010a5585991a1791e7e": {
          "model_module": "@jupyter-widgets/base",
          "model_name": "LayoutModel",
          "model_module_version": "1.2.0",
          "state": {
            "_model_module": "@jupyter-widgets/base",
            "_model_module_version": "1.2.0",
            "_model_name": "LayoutModel",
            "_view_count": null,
            "_view_module": "@jupyter-widgets/base",
            "_view_module_version": "1.2.0",
            "_view_name": "LayoutView",
            "align_content": null,
            "align_items": null,
            "align_self": null,
            "border": null,
            "bottom": null,
            "display": null,
            "flex": null,
            "flex_flow": null,
            "grid_area": null,
            "grid_auto_columns": null,
            "grid_auto_flow": null,
            "grid_auto_rows": null,
            "grid_column": null,
            "grid_gap": null,
            "grid_row": null,
            "grid_template_areas": null,
            "grid_template_columns": null,
            "grid_template_rows": null,
            "height": null,
            "justify_content": null,
            "justify_items": null,
            "left": null,
            "margin": null,
            "max_height": null,
            "max_width": null,
            "min_height": null,
            "min_width": null,
            "object_fit": null,
            "object_position": null,
            "order": null,
            "overflow": null,
            "overflow_x": null,
            "overflow_y": null,
            "padding": null,
            "right": null,
            "top": null,
            "visibility": null,
            "width": null
          }
        },
        "1b2e7ae15551409daf3ac33c7ce0dfd2": {
          "model_module": "@jupyter-widgets/controls",
          "model_name": "ProgressStyleModel",
          "model_module_version": "1.5.0",
          "state": {
            "_model_module": "@jupyter-widgets/controls",
            "_model_module_version": "1.5.0",
            "_model_name": "ProgressStyleModel",
            "_view_count": null,
            "_view_module": "@jupyter-widgets/base",
            "_view_module_version": "1.2.0",
            "_view_name": "StyleView",
            "bar_color": null,
            "description_width": ""
          }
        }
      }
    }
  },
  "cells": [
    {
      "cell_type": "markdown",
      "metadata": {
        "id": "view-in-github",
        "colab_type": "text"
      },
      "source": [
        "<a href=\"https://colab.research.google.com/github/mtsizh/bottleneck-distance-for-sigma8/blob/main/wasserstein_distance.ipynb\" target=\"_parent\"><img src=\"https://colab.research.google.com/assets/colab-badge.svg\" alt=\"Open In Colab\"/></a>"
      ]
    },
    {
      "cell_type": "code",
      "source": [
        "#@title #Download datasets\n",
        "#@markdown Run this block of code to download our dataset to Google Colab.\n",
        "#@markdown If successful this code yields \n",
        "#@markdown * folder `alldata2` containing all data for further scripts\n",
        "#@markdown * file `alldata_large.zip` -- the same data zipped; not needed for scripts, but you may want to download it to your local machine\n",
        "\n",
        "from IPython.display import clear_output\n",
        "\n",
        "files = ['alldata.zip', 'alldata.z01', 'alldata.z02', 'alldata.z03']\n",
        "print('deleting old files if exist')\n",
        "!rm -rf alldata2\n",
        "!rm -f alldata_large.zip\n",
        "for f in files:\n",
        "  !rm -f {f}\n",
        "for i,f in enumerate(files):\n",
        "  print('downloading part ', i+1, ' of ', len(files))\n",
        "  #result = !curl -s -S https://raw.githubusercontent.com/mtsizh/bottleneck-distance-for-sigma8/main/{f} > /dev/null && echo \"TRUE\"\n",
        "  result = !wget -q https://raw.githubusercontent.com/mtsizh/bottleneck-distance-for-sigma8/main/{f} && echo \"1\" || echo \"0\"\n",
        "  if result == ['1']:\n",
        "    print('OK')\n",
        "  else:\n",
        "    raise Exception(\"ERROR WHILE DOWNLOADING DATA\")\n",
        "clear_output()\n",
        "print(\"DOWNLOAD SUCCESSFUL\")\n",
        "print(\"PARTS TO ZIP\")\n",
        "result = !zip -qq -F alldata.zip --out alldata_large.zip 2>/dev/null && echo \"1\" || echo \"0\"\n",
        "if result == ['1']:\n",
        "  print('OK')\n",
        "else:\n",
        "  raise Exception(\"ERROR WHILE CREATING LARGE ZIP\")\n",
        "print(\"UNZIPPING\")\n",
        "result = !unzip -o -qq alldata_large.zip 2>/dev/null && echo \"1\" || echo \"0\"\n",
        "if result == ['1']:\n",
        "  print('OK')\n",
        "else:\n",
        "  raise Exception(\"ERROR WHILE UNZIPPING\")\n",
        "print('cleaning')\n",
        "for f in files:\n",
        "  !rm -f {f}\n",
        "clear_output()\n",
        "print(\"ALL DATA DOWNLOADED AND UNPACKED\")"
      ],
      "metadata": {
        "cellView": "form",
        "id": "SzMIc6iSgdh2",
        "colab": {
          "base_uri": "https://localhost:8080/"
        },
        "outputId": "7786dc83-b22b-4bcf-fc6c-66442ae6a509"
      },
      "execution_count": 1,
      "outputs": [
        {
          "output_type": "stream",
          "name": "stdout",
          "text": [
            "ALL DATA DOWNLOADED AND UNPACKED\n"
          ]
        }
      ]
    },
    {
      "cell_type": "markdown",
      "source": [
        "install gudhi library with the following code"
      ],
      "metadata": {
        "id": "jb2DFHrD_1O5"
      }
    },
    {
      "cell_type": "code",
      "source": [
        "!pip install gudhi"
      ],
      "metadata": {
        "colab": {
          "base_uri": "https://localhost:8080/"
        },
        "id": "18noI2tO_0CC",
        "outputId": "18868ca6-44f6-4c06-bc52-1eb444694267"
      },
      "execution_count": 2,
      "outputs": [
        {
          "output_type": "stream",
          "name": "stdout",
          "text": [
            "Looking in indexes: https://pypi.org/simple, https://us-python.pkg.dev/colab-wheels/public/simple/\n",
            "Collecting gudhi\n",
            "  Downloading gudhi-3.7.1-cp38-cp38-manylinux_2_17_x86_64.manylinux2014_x86_64.whl (31.6 MB)\n",
            "\u001b[2K     \u001b[90m━━━━━━━━━━━━━━━━━━━━━━━━━━━━━━━━━━━━━━━━\u001b[0m \u001b[32m31.6/31.6 MB\u001b[0m \u001b[31m32.8 MB/s\u001b[0m eta \u001b[36m0:00:00\u001b[0m\n",
            "\u001b[?25hRequirement already satisfied: numpy>=1.15.0 in /usr/local/lib/python3.8/dist-packages (from gudhi) (1.21.6)\n",
            "Installing collected packages: gudhi\n",
            "Successfully installed gudhi-3.7.1\n"
          ]
        }
      ]
    },
    {
      "cell_type": "markdown",
      "source": [
        "The following code calculates persistence intervals. Results are saved as `persistence.json` file. Computations are lengthy, please wait until the progressbar reaches 100%. For your convenience `persistence.zip` is created so that you can download intermediate data to your computer."
      ],
      "metadata": {
        "id": "ReBsh2qSMj13"
      }
    },
    {
      "cell_type": "code",
      "source": [
        "#@markdown Folder with data (should be ok by default)\n",
        "root_folder = \"./alldata2\" #@param {type: \"string\"}\n",
        "#@markdown Choose mass filtering in % (0 to 100)\n",
        "remove_masses_lower_than = 0  #@param {type: \"slider\", min: 0, max: 100}\n",
        "remove_masses_higher_than = 100  #@param {type: \"slider\", min: 0, max: 100}\n",
        "#@markdown Choose random filtering in % (0 to 100)\n",
        "bootstrap_percent = 100  #@param {type: \"slider\", min: 0, max: 100}\n",
        "\n",
        "if remove_masses_higher_than <= remove_masses_lower_than:\n",
        "  raise Exception(\"Upper masses limit should be larger then the lower limit\")\n",
        "\n",
        "import os\n",
        "from glob import glob\n",
        "import re\n",
        "import numpy as np\n",
        "import pandas as pd\n",
        "import gudhi\n",
        "from ipywidgets import IntProgress\n",
        "from IPython import display\n",
        "\n",
        "\n",
        "def read_all_data(filename, bootstrap_percent=100, mass_filter=[0, 100]):\n",
        "  df = pd.read_csv(filename, sep=r'\\t', header=None, engine ='python')\n",
        "  df.drop(df.columns.difference([0,1,2,3]), axis=1, inplace=True)\n",
        "  df.rename(columns={0:'x', 1:'y', 2:'z', 3:'m'}, inplace=True)\n",
        "  #x = df.apply(lambda s: pd.to_numeric(s, errors='coerce').notnull().all())\n",
        "  min_m = df['m'].quantile(mass_filter[0]/100)\n",
        "  max_m = df['m'].quantile(mass_filter[1]/100)\n",
        "  df = df[df['m'].between(min_m, max_m)]\n",
        "  df.drop(['m'], axis=1, inplace=True)\n",
        "  #print(df['m'].quantile(mass_filter[0]/100))\n",
        "  all_arr = df.to_numpy()\n",
        "  return all_arr[np.random.choice(all_arr.shape[0], replace=False,\n",
        "                           size=all_arr.shape[0]*bootstrap_percent//100)]\n",
        "\n",
        "def get_persistence_intervals(point_set, dim):\n",
        "  alpha_complex = gudhi.AlphaComplex(points=point_set)\n",
        "  simplex_tree = alpha_complex.create_simplex_tree(default_filtration_value=False)\n",
        "  simplex_tree.compute_persistence()\n",
        "  persistence_intervals = simplex_tree.persistence_intervals_in_dimension(dim)\n",
        "  return persistence_intervals\n",
        "\n",
        "dat_files = [y for x in os.walk(root_folder) for y in glob(os.path.join(x[0], '*.dat'))]\n",
        "reg_expr = '.*\\/([0-9]+)groups_([0-9]+)_new.dat'\n",
        "parsed = [{'filename': f, \n",
        "           'sigma': int(re.match(reg_expr, f).group(1)), \n",
        "           'red_shift': int(re.match(reg_expr, f).group(2))\n",
        "           } for f in dat_files]\n",
        "all_data = pd.DataFrame(columns=[\"sigma8*10\", \"red_shift\", \"dimension\", \"born\", \"persists\"])\n",
        "\n",
        "bar = IntProgress(min=0, max=len(parsed))\n",
        "bar.value = 0\n",
        "display.display(bar)\n",
        "\n",
        "for f in parsed:\n",
        "  data = read_all_data(f['filename'], bootstrap_percent, \n",
        "                       [remove_masses_lower_than, remove_masses_higher_than])\n",
        "  for dim in [0, 1, 2]:\n",
        "    I = get_persistence_intervals(data, dim)\n",
        "    df = {'sigma8*10': f['sigma'], \n",
        "          'red_shift': f['red_shift'], \n",
        "          'dimension': dim,\n",
        "          'born': I[:,0].tolist(),\n",
        "          'dies': I[:,1].tolist(),\n",
        "          'persists': (I[:,1] - I[:,0]).tolist()}\n",
        "    all_data = all_data.append(df, ignore_index = True)\n",
        "  bar.value += 1 \n",
        "\n",
        "data = all_data.groupby(['sigma8*10', 'red_shift', 'dimension']).agg(lambda x: sum(list(x), [])).reset_index()\n",
        "data.to_json('persistence.json')\n",
        "print(\"JSON creation complete!\")\n",
        "\n",
        "result =!zip -qq -r persistence.zip persistence.json 2>/dev/null && echo \"1\" || echo \"0\"\n",
        "if result == ['1']:\n",
        "  print('zipped')\n",
        "else:\n",
        "  raise Exception(\"ERROR WHILE CREATING LARGE ZIP\")"
      ],
      "metadata": {
        "id": "VO_MTMmMrAV9",
        "colab": {
          "base_uri": "https://localhost:8080/",
          "height": 85,
          "referenced_widgets": [
            "c2f6ef3c5f3c4f4cb246cbc3067539f8",
            "0af7f9c17d334010a5585991a1791e7e",
            "1b2e7ae15551409daf3ac33c7ce0dfd2"
          ]
        },
        "outputId": "2d1dd918-72da-4e9d-8ec9-301d46b0c8e7"
      },
      "execution_count": 36,
      "outputs": [
        {
          "output_type": "display_data",
          "data": {
            "text/plain": [
              "IntProgress(value=0, max=144)"
            ],
            "application/vnd.jupyter.widget-view+json": {
              "version_major": 2,
              "version_minor": 0,
              "model_id": "c2f6ef3c5f3c4f4cb246cbc3067539f8"
            }
          },
          "metadata": {}
        },
        {
          "output_type": "stream",
          "name": "stdout",
          "text": [
            "JSON creation complete!\n",
            "zipped\n"
          ]
        }
      ]
    },
    {
      "cell_type": "code",
      "source": [],
      "metadata": {
        "id": "yDTn2wfXN14I"
      },
      "execution_count": 35,
      "outputs": []
    }
  ]
}